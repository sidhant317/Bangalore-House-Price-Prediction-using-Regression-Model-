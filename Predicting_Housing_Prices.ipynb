{
 "cells": [
  {
   "cell_type": "markdown",
   "id": "45c4d31a-02c8-4740-9936-98a2de6b4c33",
   "metadata": {},
   "source": [
    "## Implementation of Multiple Linear Regression in Real Estate Price Prediction Problem "
   ]
  },
  {
   "cell_type": "markdown",
   "id": "60ac8aec-16c0-4edb-b0b3-f3e886d00ba2",
   "metadata": {},
   "source": [
    "### Import the necessary problems "
   ]
  },
  {
   "cell_type": "code",
   "execution_count": 207,
   "id": "1d438ac3-5863-4696-9423-5da58328d2e7",
   "metadata": {},
   "outputs": [],
   "source": [
    "import pandas as pd \n",
    "import numpy as np \n",
    "import matplotlib.pyplot as plt \n",
    "import seaborn as sns \n",
    "import warnings \n",
    "warnings.simplefilter( action = 'ignore' , category = FutureWarning )\n"
   ]
  },
  {
   "cell_type": "markdown",
   "id": "1214e0b1-5e7e-48ee-91bf-8e6073d0ac41",
   "metadata": {},
   "source": [
    "### Reading the data from csv file "
   ]
  },
  {
   "cell_type": "code",
   "execution_count": 208,
   "id": "04bad85a-a24b-4a61-a48a-ab6443bdd3bd",
   "metadata": {},
   "outputs": [
    {
     "data": {
      "text/html": [
       "<div>\n",
       "<style scoped>\n",
       "    .dataframe tbody tr th:only-of-type {\n",
       "        vertical-align: middle;\n",
       "    }\n",
       "\n",
       "    .dataframe tbody tr th {\n",
       "        vertical-align: top;\n",
       "    }\n",
       "\n",
       "    .dataframe thead th {\n",
       "        text-align: right;\n",
       "    }\n",
       "</style>\n",
       "<table border=\"1\" class=\"dataframe\">\n",
       "  <thead>\n",
       "    <tr style=\"text-align: right;\">\n",
       "      <th></th>\n",
       "      <th>area_type</th>\n",
       "      <th>availability</th>\n",
       "      <th>location</th>\n",
       "      <th>size</th>\n",
       "      <th>society</th>\n",
       "      <th>total_sqft</th>\n",
       "      <th>bath</th>\n",
       "      <th>balcony</th>\n",
       "      <th>price</th>\n",
       "    </tr>\n",
       "  </thead>\n",
       "  <tbody>\n",
       "    <tr>\n",
       "      <th>0</th>\n",
       "      <td>Super built-up  Area</td>\n",
       "      <td>19-Dec</td>\n",
       "      <td>Electronic City Phase II</td>\n",
       "      <td>2 BHK</td>\n",
       "      <td>Coomee</td>\n",
       "      <td>1056</td>\n",
       "      <td>2.0</td>\n",
       "      <td>1.0</td>\n",
       "      <td>39.07</td>\n",
       "    </tr>\n",
       "    <tr>\n",
       "      <th>1</th>\n",
       "      <td>Plot  Area</td>\n",
       "      <td>Ready To Move</td>\n",
       "      <td>Chikka Tirupathi</td>\n",
       "      <td>4 Bedroom</td>\n",
       "      <td>Theanmp</td>\n",
       "      <td>2600</td>\n",
       "      <td>5.0</td>\n",
       "      <td>3.0</td>\n",
       "      <td>120.00</td>\n",
       "    </tr>\n",
       "    <tr>\n",
       "      <th>2</th>\n",
       "      <td>Built-up  Area</td>\n",
       "      <td>Ready To Move</td>\n",
       "      <td>Uttarahalli</td>\n",
       "      <td>3 BHK</td>\n",
       "      <td>NaN</td>\n",
       "      <td>1440</td>\n",
       "      <td>2.0</td>\n",
       "      <td>3.0</td>\n",
       "      <td>62.00</td>\n",
       "    </tr>\n",
       "    <tr>\n",
       "      <th>3</th>\n",
       "      <td>Super built-up  Area</td>\n",
       "      <td>Ready To Move</td>\n",
       "      <td>Lingadheeranahalli</td>\n",
       "      <td>3 BHK</td>\n",
       "      <td>Soiewre</td>\n",
       "      <td>1521</td>\n",
       "      <td>3.0</td>\n",
       "      <td>1.0</td>\n",
       "      <td>95.00</td>\n",
       "    </tr>\n",
       "    <tr>\n",
       "      <th>4</th>\n",
       "      <td>Super built-up  Area</td>\n",
       "      <td>Ready To Move</td>\n",
       "      <td>Kothanur</td>\n",
       "      <td>2 BHK</td>\n",
       "      <td>NaN</td>\n",
       "      <td>1200</td>\n",
       "      <td>2.0</td>\n",
       "      <td>1.0</td>\n",
       "      <td>51.00</td>\n",
       "    </tr>\n",
       "  </tbody>\n",
       "</table>\n",
       "</div>"
      ],
      "text/plain": [
       "              area_type   availability                  location       size  \\\n",
       "0  Super built-up  Area         19-Dec  Electronic City Phase II      2 BHK   \n",
       "1            Plot  Area  Ready To Move          Chikka Tirupathi  4 Bedroom   \n",
       "2        Built-up  Area  Ready To Move               Uttarahalli      3 BHK   \n",
       "3  Super built-up  Area  Ready To Move        Lingadheeranahalli      3 BHK   \n",
       "4  Super built-up  Area  Ready To Move                  Kothanur      2 BHK   \n",
       "\n",
       "   society total_sqft  bath  balcony   price  \n",
       "0  Coomee        1056   2.0      1.0   39.07  \n",
       "1  Theanmp       2600   5.0      3.0  120.00  \n",
       "2      NaN       1440   2.0      3.0   62.00  \n",
       "3  Soiewre       1521   3.0      1.0   95.00  \n",
       "4      NaN       1200   2.0      1.0   51.00  "
      ]
     },
     "execution_count": 208,
     "metadata": {},
     "output_type": "execute_result"
    }
   ],
   "source": [
    "df = pd.read_csv(r\"C:\\Users\\smoni\\Downloads\\Bengaluru_House_Data.csv\")\n",
    "df.head()"
   ]
  },
  {
   "cell_type": "code",
   "execution_count": 209,
   "id": "a120a901-a133-442f-b440-97de931faa9e",
   "metadata": {},
   "outputs": [
    {
     "data": {
      "text/plain": [
       "(13320, 9)"
      ]
     },
     "execution_count": 209,
     "metadata": {},
     "output_type": "execute_result"
    }
   ],
   "source": [
    "df.shape"
   ]
  },
  {
   "cell_type": "code",
   "execution_count": 210,
   "id": "5aa59f0a-17ed-4b75-b758-a8d27c139a81",
   "metadata": {},
   "outputs": [
    {
     "data": {
      "text/html": [
       "<div>\n",
       "<style scoped>\n",
       "    .dataframe tbody tr th:only-of-type {\n",
       "        vertical-align: middle;\n",
       "    }\n",
       "\n",
       "    .dataframe tbody tr th {\n",
       "        vertical-align: top;\n",
       "    }\n",
       "\n",
       "    .dataframe thead th {\n",
       "        text-align: right;\n",
       "    }\n",
       "</style>\n",
       "<table border=\"1\" class=\"dataframe\">\n",
       "  <thead>\n",
       "    <tr style=\"text-align: right;\">\n",
       "      <th></th>\n",
       "      <th>area_type</th>\n",
       "      <th>availability</th>\n",
       "      <th>location</th>\n",
       "      <th>size</th>\n",
       "      <th>society</th>\n",
       "      <th>total_sqft</th>\n",
       "      <th>bath</th>\n",
       "      <th>balcony</th>\n",
       "      <th>price</th>\n",
       "    </tr>\n",
       "  </thead>\n",
       "  <tbody>\n",
       "    <tr>\n",
       "      <th>0</th>\n",
       "      <td>Super built-up  Area</td>\n",
       "      <td>19-Dec</td>\n",
       "      <td>Electronic City Phase II</td>\n",
       "      <td>2 BHK</td>\n",
       "      <td>Coomee</td>\n",
       "      <td>1056</td>\n",
       "      <td>2.0</td>\n",
       "      <td>1.0</td>\n",
       "      <td>39.07</td>\n",
       "    </tr>\n",
       "    <tr>\n",
       "      <th>1</th>\n",
       "      <td>Plot  Area</td>\n",
       "      <td>Ready To Move</td>\n",
       "      <td>Chikka Tirupathi</td>\n",
       "      <td>4 Bedroom</td>\n",
       "      <td>Theanmp</td>\n",
       "      <td>2600</td>\n",
       "      <td>5.0</td>\n",
       "      <td>3.0</td>\n",
       "      <td>120.00</td>\n",
       "    </tr>\n",
       "    <tr>\n",
       "      <th>2</th>\n",
       "      <td>Built-up  Area</td>\n",
       "      <td>Ready To Move</td>\n",
       "      <td>Uttarahalli</td>\n",
       "      <td>3 BHK</td>\n",
       "      <td>NaN</td>\n",
       "      <td>1440</td>\n",
       "      <td>2.0</td>\n",
       "      <td>3.0</td>\n",
       "      <td>62.00</td>\n",
       "    </tr>\n",
       "    <tr>\n",
       "      <th>3</th>\n",
       "      <td>Super built-up  Area</td>\n",
       "      <td>Ready To Move</td>\n",
       "      <td>Lingadheeranahalli</td>\n",
       "      <td>3 BHK</td>\n",
       "      <td>Soiewre</td>\n",
       "      <td>1521</td>\n",
       "      <td>3.0</td>\n",
       "      <td>1.0</td>\n",
       "      <td>95.00</td>\n",
       "    </tr>\n",
       "    <tr>\n",
       "      <th>4</th>\n",
       "      <td>Super built-up  Area</td>\n",
       "      <td>Ready To Move</td>\n",
       "      <td>Kothanur</td>\n",
       "      <td>2 BHK</td>\n",
       "      <td>NaN</td>\n",
       "      <td>1200</td>\n",
       "      <td>2.0</td>\n",
       "      <td>1.0</td>\n",
       "      <td>51.00</td>\n",
       "    </tr>\n",
       "    <tr>\n",
       "      <th>...</th>\n",
       "      <td>...</td>\n",
       "      <td>...</td>\n",
       "      <td>...</td>\n",
       "      <td>...</td>\n",
       "      <td>...</td>\n",
       "      <td>...</td>\n",
       "      <td>...</td>\n",
       "      <td>...</td>\n",
       "      <td>...</td>\n",
       "    </tr>\n",
       "    <tr>\n",
       "      <th>13315</th>\n",
       "      <td>Built-up  Area</td>\n",
       "      <td>Ready To Move</td>\n",
       "      <td>Whitefield</td>\n",
       "      <td>5 Bedroom</td>\n",
       "      <td>ArsiaEx</td>\n",
       "      <td>3453</td>\n",
       "      <td>4.0</td>\n",
       "      <td>0.0</td>\n",
       "      <td>231.00</td>\n",
       "    </tr>\n",
       "    <tr>\n",
       "      <th>13316</th>\n",
       "      <td>Super built-up  Area</td>\n",
       "      <td>Ready To Move</td>\n",
       "      <td>Richards Town</td>\n",
       "      <td>4 BHK</td>\n",
       "      <td>NaN</td>\n",
       "      <td>3600</td>\n",
       "      <td>5.0</td>\n",
       "      <td>NaN</td>\n",
       "      <td>400.00</td>\n",
       "    </tr>\n",
       "    <tr>\n",
       "      <th>13317</th>\n",
       "      <td>Built-up  Area</td>\n",
       "      <td>Ready To Move</td>\n",
       "      <td>Raja Rajeshwari Nagar</td>\n",
       "      <td>2 BHK</td>\n",
       "      <td>Mahla T</td>\n",
       "      <td>1141</td>\n",
       "      <td>2.0</td>\n",
       "      <td>1.0</td>\n",
       "      <td>60.00</td>\n",
       "    </tr>\n",
       "    <tr>\n",
       "      <th>13318</th>\n",
       "      <td>Super built-up  Area</td>\n",
       "      <td>18-Jun</td>\n",
       "      <td>Padmanabhanagar</td>\n",
       "      <td>4 BHK</td>\n",
       "      <td>SollyCl</td>\n",
       "      <td>4689</td>\n",
       "      <td>4.0</td>\n",
       "      <td>1.0</td>\n",
       "      <td>488.00</td>\n",
       "    </tr>\n",
       "    <tr>\n",
       "      <th>13319</th>\n",
       "      <td>Super built-up  Area</td>\n",
       "      <td>Ready To Move</td>\n",
       "      <td>Doddathoguru</td>\n",
       "      <td>1 BHK</td>\n",
       "      <td>NaN</td>\n",
       "      <td>550</td>\n",
       "      <td>1.0</td>\n",
       "      <td>1.0</td>\n",
       "      <td>17.00</td>\n",
       "    </tr>\n",
       "  </tbody>\n",
       "</table>\n",
       "<p>13320 rows × 9 columns</p>\n",
       "</div>"
      ],
      "text/plain": [
       "                  area_type   availability                  location  \\\n",
       "0      Super built-up  Area         19-Dec  Electronic City Phase II   \n",
       "1                Plot  Area  Ready To Move          Chikka Tirupathi   \n",
       "2            Built-up  Area  Ready To Move               Uttarahalli   \n",
       "3      Super built-up  Area  Ready To Move        Lingadheeranahalli   \n",
       "4      Super built-up  Area  Ready To Move                  Kothanur   \n",
       "...                     ...            ...                       ...   \n",
       "13315        Built-up  Area  Ready To Move                Whitefield   \n",
       "13316  Super built-up  Area  Ready To Move             Richards Town   \n",
       "13317        Built-up  Area  Ready To Move     Raja Rajeshwari Nagar   \n",
       "13318  Super built-up  Area         18-Jun           Padmanabhanagar   \n",
       "13319  Super built-up  Area  Ready To Move              Doddathoguru   \n",
       "\n",
       "            size  society total_sqft  bath  balcony   price  \n",
       "0          2 BHK  Coomee        1056   2.0      1.0   39.07  \n",
       "1      4 Bedroom  Theanmp       2600   5.0      3.0  120.00  \n",
       "2          3 BHK      NaN       1440   2.0      3.0   62.00  \n",
       "3          3 BHK  Soiewre       1521   3.0      1.0   95.00  \n",
       "4          2 BHK      NaN       1200   2.0      1.0   51.00  \n",
       "...          ...      ...        ...   ...      ...     ...  \n",
       "13315  5 Bedroom  ArsiaEx       3453   4.0      0.0  231.00  \n",
       "13316      4 BHK      NaN       3600   5.0      NaN  400.00  \n",
       "13317      2 BHK  Mahla T       1141   2.0      1.0   60.00  \n",
       "13318      4 BHK  SollyCl       4689   4.0      1.0  488.00  \n",
       "13319      1 BHK      NaN        550   1.0      1.0   17.00  \n",
       "\n",
       "[13320 rows x 9 columns]"
      ]
     },
     "execution_count": 210,
     "metadata": {},
     "output_type": "execute_result"
    }
   ],
   "source": [
    "df "
   ]
  },
  {
   "cell_type": "markdown",
   "id": "14e77639-bff4-4d84-9fb3-ff035f0a820e",
   "metadata": {},
   "source": [
    "### Data Wrangling "
   ]
  },
  {
   "cell_type": "code",
   "execution_count": 211,
   "id": "7d5af2bc-9a4a-4486-a196-522caf103492",
   "metadata": {},
   "outputs": [
    {
     "data": {
      "text/plain": [
       "area_type\n",
       "Super built-up  Area    8790\n",
       "Built-up  Area          2418\n",
       "Plot  Area              2025\n",
       "Carpet  Area              87\n",
       "Name: count, dtype: int64"
      ]
     },
     "execution_count": 211,
     "metadata": {},
     "output_type": "execute_result"
    }
   ],
   "source": [
    "df[\"area_type\"].value_counts()"
   ]
  },
  {
   "cell_type": "code",
   "execution_count": 212,
   "id": "d18bc6d2-cf48-4b39-888f-9e3b169d006d",
   "metadata": {},
   "outputs": [
    {
     "data": {
      "text/plain": [
       "availability\n",
       "Ready To Move    10581\n",
       "18-Dec             307\n",
       "18-May             295\n",
       "18-Apr             271\n",
       "18-Aug             200\n",
       "                 ...  \n",
       "15-Aug               1\n",
       "17-Jan               1\n",
       "16-Nov               1\n",
       "16-Jan               1\n",
       "14-Jul               1\n",
       "Name: count, Length: 81, dtype: int64"
      ]
     },
     "execution_count": 212,
     "metadata": {},
     "output_type": "execute_result"
    }
   ],
   "source": [
    "df[\"availability\"].value_counts()"
   ]
  },
  {
   "cell_type": "code",
   "execution_count": 213,
   "id": "16ea3483-5d7e-4100-801b-5fd652454e63",
   "metadata": {},
   "outputs": [
    {
     "data": {
      "text/plain": [
       "location\n",
       "Whitefield                        540\n",
       "Sarjapur  Road                    399\n",
       "Electronic City                   302\n",
       "Kanakpura Road                    273\n",
       "Thanisandra                       234\n",
       "                                 ... \n",
       "Bapuji Layout                       1\n",
       "1st Stage Radha Krishna Layout      1\n",
       "BEML Layout 5th stage               1\n",
       "singapura paradise                  1\n",
       "Abshot Layout                       1\n",
       "Name: count, Length: 1305, dtype: int64"
      ]
     },
     "execution_count": 213,
     "metadata": {},
     "output_type": "execute_result"
    }
   ],
   "source": [
    "df[\"location\"].value_counts()"
   ]
  },
  {
   "cell_type": "code",
   "execution_count": 214,
   "id": "3839b6d3-6e96-420e-aa53-2ee1c75a9d4e",
   "metadata": {},
   "outputs": [
    {
     "data": {
      "text/plain": [
       "society\n",
       "GrrvaGr    80\n",
       "PrarePa    76\n",
       "Sryalan    59\n",
       "Prtates    59\n",
       "GMown E    56\n",
       "           ..\n",
       "Amionce     1\n",
       "JaghtDe     1\n",
       "Jauraht     1\n",
       "Brity U     1\n",
       "RSntsAp     1\n",
       "Name: count, Length: 2688, dtype: int64"
      ]
     },
     "execution_count": 214,
     "metadata": {},
     "output_type": "execute_result"
    }
   ],
   "source": [
    "df[\"society\"].value_counts()"
   ]
  },
  {
   "cell_type": "code",
   "execution_count": 215,
   "id": "26fa019c-9c90-4abf-ab5e-20125e185ae0",
   "metadata": {},
   "outputs": [
    {
     "data": {
      "text/plain": [
       "balcony\n",
       "2.0    5113\n",
       "1.0    4897\n",
       "3.0    1672\n",
       "0.0    1029\n",
       "Name: count, dtype: int64"
      ]
     },
     "execution_count": 215,
     "metadata": {},
     "output_type": "execute_result"
    }
   ],
   "source": [
    "df.balcony.value_counts()"
   ]
  },
  {
   "cell_type": "code",
   "execution_count": 216,
   "id": "0c86dc64-5f61-42fe-9261-5c0940900610",
   "metadata": {},
   "outputs": [
    {
     "data": {
      "text/plain": [
       "(13320, 7)"
      ]
     },
     "execution_count": 216,
     "metadata": {},
     "output_type": "execute_result"
    }
   ],
   "source": [
    "df = df.drop(['society' , 'availability'] , axis = 'columns')\n",
    "df.shape "
   ]
  },
  {
   "cell_type": "markdown",
   "id": "f940dedb-f932-41f1-b9f9-82a5c00ebaf1",
   "metadata": {},
   "source": [
    "### Data Cleaning : Handling missing values ( NA values ) "
   ]
  },
  {
   "cell_type": "code",
   "execution_count": 217,
   "id": "5a0e5d1d-d73c-48d0-9f46-79c630e0c5cf",
   "metadata": {},
   "outputs": [
    {
     "data": {
      "text/plain": [
       "area_type       0\n",
       "location        1\n",
       "size           16\n",
       "total_sqft      0\n",
       "bath           73\n",
       "balcony       609\n",
       "price           0\n",
       "dtype: int64"
      ]
     },
     "execution_count": 217,
     "metadata": {},
     "output_type": "execute_result"
    }
   ],
   "source": [
    "df.isnull().sum()"
   ]
  },
  {
   "cell_type": "code",
   "execution_count": 218,
   "id": "0ed6b78a-e25c-4154-ab4b-b8cf2514bcba",
   "metadata": {},
   "outputs": [
    {
     "data": {
      "text/plain": [
       "area_type     0\n",
       "location      0\n",
       "size          0\n",
       "total_sqft    0\n",
       "bath          0\n",
       "balcony       0\n",
       "price         0\n",
       "dtype: int64"
      ]
     },
     "execution_count": 218,
     "metadata": {},
     "output_type": "execute_result"
    }
   ],
   "source": [
    "df = df.dropna()\n",
    "df.isnull().sum()"
   ]
  },
  {
   "cell_type": "code",
   "execution_count": 219,
   "id": "b95fdf2f-4281-4d31-b21e-6c2902622a30",
   "metadata": {},
   "outputs": [
    {
     "data": {
      "text/plain": [
       "(12710, 7)"
      ]
     },
     "execution_count": 219,
     "metadata": {},
     "output_type": "execute_result"
    }
   ],
   "source": [
    "df.shape"
   ]
  },
  {
   "cell_type": "markdown",
   "id": "1a04eebe-95f0-426e-b101-6ed2b5f337c0",
   "metadata": {},
   "source": [
    "### Feature Engineering "
   ]
  },
  {
   "cell_type": "code",
   "execution_count": 220,
   "id": "4c4c6d0a-3e17-4925-a3c8-90584cc7f431",
   "metadata": {},
   "outputs": [
    {
     "data": {
      "text/plain": [
       "array([ 2,  4,  3,  1,  6,  8,  7,  5, 11,  9, 27, 43, 14, 12, 10, 13],\n",
       "      dtype=int64)"
      ]
     },
     "execution_count": 220,
     "metadata": {},
     "output_type": "execute_result"
    }
   ],
   "source": [
    "df['bhk'] = df['size'].apply(lambda x: int(x.split(' ')[0]))\n",
    "df.bhk.unique()"
   ]
  },
  {
   "cell_type": "code",
   "execution_count": 221,
   "id": "7b1f08e1-b41e-410b-929a-52d78653ff9c",
   "metadata": {},
   "outputs": [
    {
     "data": {
      "text/plain": [
       "array(['1056', '2600', '1440', ..., '1133 - 1384', '774', '4689'],\n",
       "      dtype=object)"
      ]
     },
     "execution_count": 221,
     "metadata": {},
     "output_type": "execute_result"
    }
   ],
   "source": [
    "df.total_sqft.unique()"
   ]
  },
  {
   "cell_type": "code",
   "execution_count": 222,
   "id": "34b645e7-3b02-4f57-9204-7de41f745b9d",
   "metadata": {},
   "outputs": [],
   "source": [
    "def is_float(x):       ## This is a utility function which checks whether a given value can be converted into a float number or not \n",
    "    try:\n",
    "        float(x)\n",
    "    except:\n",
    "        return False\n",
    "    return True     \n"
   ]
  },
  {
   "cell_type": "code",
   "execution_count": 223,
   "id": "a3384a4a-0d0a-46bb-9a69-60db014a2a7d",
   "metadata": {},
   "outputs": [
    {
     "data": {
      "text/html": [
       "<div>\n",
       "<style scoped>\n",
       "    .dataframe tbody tr th:only-of-type {\n",
       "        vertical-align: middle;\n",
       "    }\n",
       "\n",
       "    .dataframe tbody tr th {\n",
       "        vertical-align: top;\n",
       "    }\n",
       "\n",
       "    .dataframe thead th {\n",
       "        text-align: right;\n",
       "    }\n",
       "</style>\n",
       "<table border=\"1\" class=\"dataframe\">\n",
       "  <thead>\n",
       "    <tr style=\"text-align: right;\">\n",
       "      <th></th>\n",
       "      <th>area_type</th>\n",
       "      <th>location</th>\n",
       "      <th>size</th>\n",
       "      <th>total_sqft</th>\n",
       "      <th>bath</th>\n",
       "      <th>balcony</th>\n",
       "      <th>price</th>\n",
       "      <th>bhk</th>\n",
       "    </tr>\n",
       "  </thead>\n",
       "  <tbody>\n",
       "    <tr>\n",
       "      <th>30</th>\n",
       "      <td>Super built-up  Area</td>\n",
       "      <td>Yelahanka</td>\n",
       "      <td>4 BHK</td>\n",
       "      <td>2100 - 2850</td>\n",
       "      <td>4.0</td>\n",
       "      <td>0.0</td>\n",
       "      <td>186.000</td>\n",
       "      <td>4</td>\n",
       "    </tr>\n",
       "    <tr>\n",
       "      <th>122</th>\n",
       "      <td>Super built-up  Area</td>\n",
       "      <td>Hebbal</td>\n",
       "      <td>4 BHK</td>\n",
       "      <td>3067 - 8156</td>\n",
       "      <td>4.0</td>\n",
       "      <td>0.0</td>\n",
       "      <td>477.000</td>\n",
       "      <td>4</td>\n",
       "    </tr>\n",
       "    <tr>\n",
       "      <th>137</th>\n",
       "      <td>Super built-up  Area</td>\n",
       "      <td>8th Phase JP Nagar</td>\n",
       "      <td>2 BHK</td>\n",
       "      <td>1042 - 1105</td>\n",
       "      <td>2.0</td>\n",
       "      <td>0.0</td>\n",
       "      <td>54.005</td>\n",
       "      <td>2</td>\n",
       "    </tr>\n",
       "    <tr>\n",
       "      <th>165</th>\n",
       "      <td>Super built-up  Area</td>\n",
       "      <td>Sarjapur</td>\n",
       "      <td>2 BHK</td>\n",
       "      <td>1145 - 1340</td>\n",
       "      <td>2.0</td>\n",
       "      <td>0.0</td>\n",
       "      <td>43.490</td>\n",
       "      <td>2</td>\n",
       "    </tr>\n",
       "    <tr>\n",
       "      <th>188</th>\n",
       "      <td>Super built-up  Area</td>\n",
       "      <td>KR Puram</td>\n",
       "      <td>2 BHK</td>\n",
       "      <td>1015 - 1540</td>\n",
       "      <td>2.0</td>\n",
       "      <td>0.0</td>\n",
       "      <td>56.800</td>\n",
       "      <td>2</td>\n",
       "    </tr>\n",
       "    <tr>\n",
       "      <th>410</th>\n",
       "      <td>Super built-up  Area</td>\n",
       "      <td>Kengeri</td>\n",
       "      <td>1 BHK</td>\n",
       "      <td>34.46Sq. Meter</td>\n",
       "      <td>1.0</td>\n",
       "      <td>0.0</td>\n",
       "      <td>18.500</td>\n",
       "      <td>1</td>\n",
       "    </tr>\n",
       "    <tr>\n",
       "      <th>549</th>\n",
       "      <td>Super built-up  Area</td>\n",
       "      <td>Hennur Road</td>\n",
       "      <td>2 BHK</td>\n",
       "      <td>1195 - 1440</td>\n",
       "      <td>2.0</td>\n",
       "      <td>0.0</td>\n",
       "      <td>63.770</td>\n",
       "      <td>2</td>\n",
       "    </tr>\n",
       "    <tr>\n",
       "      <th>661</th>\n",
       "      <td>Super built-up  Area</td>\n",
       "      <td>Yelahanka</td>\n",
       "      <td>2 BHK</td>\n",
       "      <td>1120 - 1145</td>\n",
       "      <td>2.0</td>\n",
       "      <td>0.0</td>\n",
       "      <td>48.130</td>\n",
       "      <td>2</td>\n",
       "    </tr>\n",
       "    <tr>\n",
       "      <th>672</th>\n",
       "      <td>Built-up  Area</td>\n",
       "      <td>Bettahalsoor</td>\n",
       "      <td>4 Bedroom</td>\n",
       "      <td>3090 - 5002</td>\n",
       "      <td>4.0</td>\n",
       "      <td>0.0</td>\n",
       "      <td>445.000</td>\n",
       "      <td>4</td>\n",
       "    </tr>\n",
       "    <tr>\n",
       "      <th>772</th>\n",
       "      <td>Super built-up  Area</td>\n",
       "      <td>Banashankari Stage VI</td>\n",
       "      <td>2 BHK</td>\n",
       "      <td>1160 - 1195</td>\n",
       "      <td>2.0</td>\n",
       "      <td>0.0</td>\n",
       "      <td>59.935</td>\n",
       "      <td>2</td>\n",
       "    </tr>\n",
       "  </tbody>\n",
       "</table>\n",
       "</div>"
      ],
      "text/plain": [
       "                area_type               location       size      total_sqft  \\\n",
       "30   Super built-up  Area              Yelahanka      4 BHK     2100 - 2850   \n",
       "122  Super built-up  Area                 Hebbal      4 BHK     3067 - 8156   \n",
       "137  Super built-up  Area     8th Phase JP Nagar      2 BHK     1042 - 1105   \n",
       "165  Super built-up  Area               Sarjapur      2 BHK     1145 - 1340   \n",
       "188  Super built-up  Area               KR Puram      2 BHK     1015 - 1540   \n",
       "410  Super built-up  Area                Kengeri      1 BHK  34.46Sq. Meter   \n",
       "549  Super built-up  Area            Hennur Road      2 BHK     1195 - 1440   \n",
       "661  Super built-up  Area              Yelahanka      2 BHK     1120 - 1145   \n",
       "672        Built-up  Area           Bettahalsoor  4 Bedroom     3090 - 5002   \n",
       "772  Super built-up  Area  Banashankari Stage VI      2 BHK     1160 - 1195   \n",
       "\n",
       "     bath  balcony    price  bhk  \n",
       "30    4.0      0.0  186.000    4  \n",
       "122   4.0      0.0  477.000    4  \n",
       "137   2.0      0.0   54.005    2  \n",
       "165   2.0      0.0   43.490    2  \n",
       "188   2.0      0.0   56.800    2  \n",
       "410   1.0      0.0   18.500    1  \n",
       "549   2.0      0.0   63.770    2  \n",
       "661   2.0      0.0   48.130    2  \n",
       "672   4.0      0.0  445.000    4  \n",
       "772   2.0      0.0   59.935    2  "
      ]
     },
     "execution_count": 223,
     "metadata": {},
     "output_type": "execute_result"
    }
   ],
   "source": [
    "df[~df['total_sqft'].apply(is_float)].head(10)"
   ]
  },
  {
   "cell_type": "markdown",
   "id": "5803c44b-13d8-40b1-b296-05097334fead",
   "metadata": {},
   "source": [
    "#### Above shows that total_sqft can be a range( e.g. 2100 - 2850 ) . For such case we can just take average of min and max value in the range . There are other cases such as 34.465Sq. Meter which one can convert to square ft using unit conversion . I am going to just drop such corner cases to keep things simple as I have enough observations for my analysis "
   ]
  },
  {
   "cell_type": "code",
   "execution_count": 224,
   "id": "80d56779-5357-48e9-a44d-d3460af2e0bd",
   "metadata": {},
   "outputs": [],
   "source": [
    "# Convert the column to string \n",
    "df['total_sqft'] = df['total_sqft'].astype(str) "
   ]
  },
  {
   "cell_type": "code",
   "execution_count": 225,
   "id": "0554a527-85e6-4ee5-ab77-30ffdba99609",
   "metadata": {},
   "outputs": [],
   "source": [
    "def convert_sqft_to_num(x):\n",
    "    tokens = x.split('-')\n",
    "    if len(tokens) == 2:\n",
    "        return (float(tokens[0]) + float(tokens[1]))/2\n",
    "    try:\n",
    "        return float(x)\n",
    "    except:\n",
    "        return None "
   ]
  },
  {
   "cell_type": "code",
   "execution_count": 226,
   "id": "83f3efa9-7514-4a00-bbd0-dd04d74c2bfa",
   "metadata": {},
   "outputs": [],
   "source": [
    "df.total_sqft = df.total_sqft.apply(convert_sqft_to_num) \n",
    "df = df[df.total_sqft.notnull()]"
   ]
  },
  {
   "cell_type": "code",
   "execution_count": 227,
   "id": "7e528a7b-bb88-4454-807a-f0a98e7d5765",
   "metadata": {},
   "outputs": [],
   "source": [
    "# Converting the column to float \n",
    "df['total_sqft'] = df['total_sqft'].astype(float)"
   ]
  },
  {
   "cell_type": "code",
   "execution_count": 228,
   "id": "0f06d98c-6214-41aa-990f-531ee828f376",
   "metadata": {},
   "outputs": [
    {
     "data": {
      "text/html": [
       "<div>\n",
       "<style scoped>\n",
       "    .dataframe tbody tr th:only-of-type {\n",
       "        vertical-align: middle;\n",
       "    }\n",
       "\n",
       "    .dataframe tbody tr th {\n",
       "        vertical-align: top;\n",
       "    }\n",
       "\n",
       "    .dataframe thead th {\n",
       "        text-align: right;\n",
       "    }\n",
       "</style>\n",
       "<table border=\"1\" class=\"dataframe\">\n",
       "  <thead>\n",
       "    <tr style=\"text-align: right;\">\n",
       "      <th></th>\n",
       "      <th>area_type</th>\n",
       "      <th>location</th>\n",
       "      <th>size</th>\n",
       "      <th>total_sqft</th>\n",
       "      <th>bath</th>\n",
       "      <th>balcony</th>\n",
       "      <th>price</th>\n",
       "      <th>bhk</th>\n",
       "    </tr>\n",
       "  </thead>\n",
       "  <tbody>\n",
       "    <tr>\n",
       "      <th>0</th>\n",
       "      <td>Super built-up  Area</td>\n",
       "      <td>Electronic City Phase II</td>\n",
       "      <td>2 BHK</td>\n",
       "      <td>1056.0</td>\n",
       "      <td>2.0</td>\n",
       "      <td>1.0</td>\n",
       "      <td>39.07</td>\n",
       "      <td>2</td>\n",
       "    </tr>\n",
       "    <tr>\n",
       "      <th>1</th>\n",
       "      <td>Plot  Area</td>\n",
       "      <td>Chikka Tirupathi</td>\n",
       "      <td>4 Bedroom</td>\n",
       "      <td>2600.0</td>\n",
       "      <td>5.0</td>\n",
       "      <td>3.0</td>\n",
       "      <td>120.00</td>\n",
       "      <td>4</td>\n",
       "    </tr>\n",
       "    <tr>\n",
       "      <th>2</th>\n",
       "      <td>Built-up  Area</td>\n",
       "      <td>Uttarahalli</td>\n",
       "      <td>3 BHK</td>\n",
       "      <td>1440.0</td>\n",
       "      <td>2.0</td>\n",
       "      <td>3.0</td>\n",
       "      <td>62.00</td>\n",
       "      <td>3</td>\n",
       "    </tr>\n",
       "    <tr>\n",
       "      <th>3</th>\n",
       "      <td>Super built-up  Area</td>\n",
       "      <td>Lingadheeranahalli</td>\n",
       "      <td>3 BHK</td>\n",
       "      <td>1521.0</td>\n",
       "      <td>3.0</td>\n",
       "      <td>1.0</td>\n",
       "      <td>95.00</td>\n",
       "      <td>3</td>\n",
       "    </tr>\n",
       "    <tr>\n",
       "      <th>4</th>\n",
       "      <td>Super built-up  Area</td>\n",
       "      <td>Kothanur</td>\n",
       "      <td>2 BHK</td>\n",
       "      <td>1200.0</td>\n",
       "      <td>2.0</td>\n",
       "      <td>1.0</td>\n",
       "      <td>51.00</td>\n",
       "      <td>2</td>\n",
       "    </tr>\n",
       "  </tbody>\n",
       "</table>\n",
       "</div>"
      ],
      "text/plain": [
       "              area_type                  location       size  total_sqft  \\\n",
       "0  Super built-up  Area  Electronic City Phase II      2 BHK      1056.0   \n",
       "1            Plot  Area          Chikka Tirupathi  4 Bedroom      2600.0   \n",
       "2        Built-up  Area               Uttarahalli      3 BHK      1440.0   \n",
       "3  Super built-up  Area        Lingadheeranahalli      3 BHK      1521.0   \n",
       "4  Super built-up  Area                  Kothanur      2 BHK      1200.0   \n",
       "\n",
       "   bath  balcony   price  bhk  \n",
       "0   2.0      1.0   39.07    2  \n",
       "1   5.0      3.0  120.00    4  \n",
       "2   2.0      3.0   62.00    3  \n",
       "3   3.0      1.0   95.00    3  \n",
       "4   2.0      1.0   51.00    2  "
      ]
     },
     "execution_count": 228,
     "metadata": {},
     "output_type": "execute_result"
    }
   ],
   "source": [
    "df.head()"
   ]
  },
  {
   "cell_type": "code",
   "execution_count": 229,
   "id": "6da833d7-981c-41e5-8792-05b421479cf7",
   "metadata": {},
   "outputs": [
    {
     "name": "stdout",
     "output_type": "stream",
     "text": [
      "<class 'pandas.core.frame.DataFrame'>\n",
      "Index: 12668 entries, 0 to 13319\n",
      "Data columns (total 8 columns):\n",
      " #   Column      Non-Null Count  Dtype  \n",
      "---  ------      --------------  -----  \n",
      " 0   area_type   12668 non-null  object \n",
      " 1   location    12668 non-null  object \n",
      " 2   size        12668 non-null  object \n",
      " 3   total_sqft  12668 non-null  float64\n",
      " 4   bath        12668 non-null  float64\n",
      " 5   balcony     12668 non-null  float64\n",
      " 6   price       12668 non-null  float64\n",
      " 7   bhk         12668 non-null  int64  \n",
      "dtypes: float64(4), int64(1), object(3)\n",
      "memory usage: 890.7+ KB\n"
     ]
    }
   ],
   "source": [
    "df.info()"
   ]
  },
  {
   "cell_type": "markdown",
   "id": "b0711aa3-d915-48d3-8c6b-e20ecc62dd99",
   "metadata": {},
   "source": [
    "### Feature Engineering "
   ]
  },
  {
   "cell_type": "code",
   "execution_count": 230,
   "id": "df07a416-b8b2-4f9a-bb95-e3f50bac9250",
   "metadata": {},
   "outputs": [
    {
     "data": {
      "text/html": [
       "<div>\n",
       "<style scoped>\n",
       "    .dataframe tbody tr th:only-of-type {\n",
       "        vertical-align: middle;\n",
       "    }\n",
       "\n",
       "    .dataframe tbody tr th {\n",
       "        vertical-align: top;\n",
       "    }\n",
       "\n",
       "    .dataframe thead th {\n",
       "        text-align: right;\n",
       "    }\n",
       "</style>\n",
       "<table border=\"1\" class=\"dataframe\">\n",
       "  <thead>\n",
       "    <tr style=\"text-align: right;\">\n",
       "      <th></th>\n",
       "      <th>area_type</th>\n",
       "      <th>location</th>\n",
       "      <th>size</th>\n",
       "      <th>total_sqft</th>\n",
       "      <th>bath</th>\n",
       "      <th>balcony</th>\n",
       "      <th>price</th>\n",
       "      <th>bhk</th>\n",
       "      <th>price_per_sqft</th>\n",
       "    </tr>\n",
       "  </thead>\n",
       "  <tbody>\n",
       "    <tr>\n",
       "      <th>0</th>\n",
       "      <td>Super built-up  Area</td>\n",
       "      <td>Electronic City Phase II</td>\n",
       "      <td>2 BHK</td>\n",
       "      <td>1056.0</td>\n",
       "      <td>2.0</td>\n",
       "      <td>1.0</td>\n",
       "      <td>39.07</td>\n",
       "      <td>2</td>\n",
       "      <td>3699.810606</td>\n",
       "    </tr>\n",
       "    <tr>\n",
       "      <th>1</th>\n",
       "      <td>Plot  Area</td>\n",
       "      <td>Chikka Tirupathi</td>\n",
       "      <td>4 Bedroom</td>\n",
       "      <td>2600.0</td>\n",
       "      <td>5.0</td>\n",
       "      <td>3.0</td>\n",
       "      <td>120.00</td>\n",
       "      <td>4</td>\n",
       "      <td>4615.384615</td>\n",
       "    </tr>\n",
       "    <tr>\n",
       "      <th>2</th>\n",
       "      <td>Built-up  Area</td>\n",
       "      <td>Uttarahalli</td>\n",
       "      <td>3 BHK</td>\n",
       "      <td>1440.0</td>\n",
       "      <td>2.0</td>\n",
       "      <td>3.0</td>\n",
       "      <td>62.00</td>\n",
       "      <td>3</td>\n",
       "      <td>4305.555556</td>\n",
       "    </tr>\n",
       "    <tr>\n",
       "      <th>3</th>\n",
       "      <td>Super built-up  Area</td>\n",
       "      <td>Lingadheeranahalli</td>\n",
       "      <td>3 BHK</td>\n",
       "      <td>1521.0</td>\n",
       "      <td>3.0</td>\n",
       "      <td>1.0</td>\n",
       "      <td>95.00</td>\n",
       "      <td>3</td>\n",
       "      <td>6245.890861</td>\n",
       "    </tr>\n",
       "    <tr>\n",
       "      <th>4</th>\n",
       "      <td>Super built-up  Area</td>\n",
       "      <td>Kothanur</td>\n",
       "      <td>2 BHK</td>\n",
       "      <td>1200.0</td>\n",
       "      <td>2.0</td>\n",
       "      <td>1.0</td>\n",
       "      <td>51.00</td>\n",
       "      <td>2</td>\n",
       "      <td>4250.000000</td>\n",
       "    </tr>\n",
       "  </tbody>\n",
       "</table>\n",
       "</div>"
      ],
      "text/plain": [
       "              area_type                  location       size  total_sqft  \\\n",
       "0  Super built-up  Area  Electronic City Phase II      2 BHK      1056.0   \n",
       "1            Plot  Area          Chikka Tirupathi  4 Bedroom      2600.0   \n",
       "2        Built-up  Area               Uttarahalli      3 BHK      1440.0   \n",
       "3  Super built-up  Area        Lingadheeranahalli      3 BHK      1521.0   \n",
       "4  Super built-up  Area                  Kothanur      2 BHK      1200.0   \n",
       "\n",
       "   bath  balcony   price  bhk  price_per_sqft  \n",
       "0   2.0      1.0   39.07    2     3699.810606  \n",
       "1   5.0      3.0  120.00    4     4615.384615  \n",
       "2   2.0      3.0   62.00    3     4305.555556  \n",
       "3   3.0      1.0   95.00    3     6245.890861  \n",
       "4   2.0      1.0   51.00    2     4250.000000  "
      ]
     },
     "execution_count": 230,
     "metadata": {},
     "output_type": "execute_result"
    }
   ],
   "source": [
    "df = df.copy()\n",
    "df['price_per_sqft'] = df['price']*100000/df['total_sqft']\n",
    "df.head()"
   ]
  },
  {
   "cell_type": "code",
   "execution_count": 231,
   "id": "ce1d2f6c-06dd-49f4-9285-2e1edeb80744",
   "metadata": {},
   "outputs": [
    {
     "data": {
      "text/plain": [
       "count    1.266800e+04\n",
       "mean     6.876277e+03\n",
       "std      2.263354e+04\n",
       "min      2.678298e+02\n",
       "25%      4.242721e+03\n",
       "50%      5.376344e+03\n",
       "75%      7.142857e+03\n",
       "max      2.300000e+06\n",
       "Name: price_per_sqft, dtype: float64"
      ]
     },
     "execution_count": 231,
     "metadata": {},
     "output_type": "execute_result"
    }
   ],
   "source": [
    "df_stats = df['price_per_sqft'].describe()\n",
    "df_stats"
   ]
  },
  {
   "cell_type": "markdown",
   "id": "07b7e658-eda3-46fa-b787-c678fde3b4ca",
   "metadata": {},
   "source": [
    "#### Examine locations which is a categorical variable . We need to apply dimensionality reduction technique here to reduce number of locations "
   ]
  },
  {
   "cell_type": "code",
   "execution_count": 232,
   "id": "5408c684-5538-4f9a-bc40-4ec717146799",
   "metadata": {},
   "outputs": [
    {
     "data": {
      "text/plain": [
       "location\n",
       "Whitefield           514\n",
       "Sarjapur  Road       372\n",
       "Electronic City      302\n",
       "Kanakpura Road       259\n",
       "Thanisandra          233\n",
       "                    ... \n",
       "Subbannaiah Palya      1\n",
       "whitefiled             1\n",
       "Medi Agrahara          1\n",
       "Sadduguntepalya        1\n",
       "Abshot Layout          1\n",
       "Name: count, Length: 1248, dtype: int64"
      ]
     },
     "execution_count": 232,
     "metadata": {},
     "output_type": "execute_result"
    }
   ],
   "source": [
    "df.location = df.location.apply( lambda x: x.strip())\n",
    "location_stats = df['location'].value_counts(ascending = False)\n",
    "location_stats "
   ]
  },
  {
   "cell_type": "code",
   "execution_count": 233,
   "id": "3a9a30b4-410b-431d-bfa5-3d8a09a8bfd6",
   "metadata": {},
   "outputs": [
    {
     "data": {
      "text/plain": [
       "12668"
      ]
     },
     "execution_count": 233,
     "metadata": {},
     "output_type": "execute_result"
    }
   ],
   "source": [
    "location_stats.values.sum()"
   ]
  },
  {
   "cell_type": "code",
   "execution_count": 234,
   "id": "a86863c3-d215-471a-88c6-2f1c5f693e87",
   "metadata": {},
   "outputs": [
    {
     "data": {
      "text/plain": [
       "235"
      ]
     },
     "execution_count": 234,
     "metadata": {},
     "output_type": "execute_result"
    }
   ],
   "source": [
    "len(location_stats[location_stats > 10 ])"
   ]
  },
  {
   "cell_type": "markdown",
   "id": "7fd1f2cc-41ff-49a8-9a67-b86df17feb2b",
   "metadata": {},
   "source": [
    "#### Any location having less than 10 data points should be tagged as \"other\" location . In this way number of categories can be reduced by huge amount . Later on when we do one hot encoding , it will help us with having fewer dummy variables "
   ]
  },
  {
   "cell_type": "code",
   "execution_count": 235,
   "id": "ada53369-d90f-4b0e-a493-0a36602c82c7",
   "metadata": {},
   "outputs": [
    {
     "data": {
      "text/plain": [
       "location\n",
       "1st Block Koramangala    10\n",
       "Gunjur Palya             10\n",
       "Kalkere                  10\n",
       "Nagappa Reddy Layout     10\n",
       "Dairy Circle             10\n",
       "                         ..\n",
       "Subbannaiah Palya         1\n",
       "whitefiled                1\n",
       "Medi Agrahara             1\n",
       "Sadduguntepalya           1\n",
       "Abshot Layout             1\n",
       "Name: count, Length: 1013, dtype: int64"
      ]
     },
     "execution_count": 235,
     "metadata": {},
     "output_type": "execute_result"
    }
   ],
   "source": [
    "location_stats_less_than_10 = location_stats[location_stats <= 10]\n",
    "location_stats_less_than_10 "
   ]
  },
  {
   "cell_type": "code",
   "execution_count": 236,
   "id": "f541f897-d3e6-4a25-b936-ca23f73308f5",
   "metadata": {},
   "outputs": [
    {
     "data": {
      "text/plain": [
       "236"
      ]
     },
     "execution_count": 236,
     "metadata": {},
     "output_type": "execute_result"
    }
   ],
   "source": [
    "df.location = df.location.apply(lambda x: 'other' if x in location_stats_less_than_10 else x )\n",
    "len(df.location.unique())"
   ]
  },
  {
   "cell_type": "code",
   "execution_count": 237,
   "id": "5275dc06-01a1-4710-a8a6-56d467aaceba",
   "metadata": {},
   "outputs": [
    {
     "data": {
      "text/plain": [
       "(12668, 9)"
      ]
     },
     "execution_count": 237,
     "metadata": {},
     "output_type": "execute_result"
    }
   ],
   "source": [
    "df.shape"
   ]
  },
  {
   "cell_type": "markdown",
   "id": "5ab83107-d4d8-49f6-84d7-17c5a9a33e38",
   "metadata": {},
   "source": [
    "### Outlier Removal Using Business Logic "
   ]
  },
  {
   "cell_type": "markdown",
   "id": "93ef9553-fe15-47e1-8e6b-7d2559ec386e",
   "metadata": {},
   "source": [
    "##### As a Data Scientist when you have a coversation with your business manager ( who has expertise in real estate ) , he will tell you that normally square ft per bedroom is 300 i.e. 2 Bhk apartment is minimum 600 square ft . If you have for example 400 sq ft apartment with 2 Bhk than that seems suspicious and can be removed as an outlier . We will remove such outliers by keeping our minimum threshold to be 300 sqft per Bhk "
   ]
  },
  {
   "cell_type": "code",
   "execution_count": 238,
   "id": "e37638ad-9a26-453c-a2bb-f2dab712337d",
   "metadata": {},
   "outputs": [
    {
     "data": {
      "text/html": [
       "<div>\n",
       "<style scoped>\n",
       "    .dataframe tbody tr th:only-of-type {\n",
       "        vertical-align: middle;\n",
       "    }\n",
       "\n",
       "    .dataframe tbody tr th {\n",
       "        vertical-align: top;\n",
       "    }\n",
       "\n",
       "    .dataframe thead th {\n",
       "        text-align: right;\n",
       "    }\n",
       "</style>\n",
       "<table border=\"1\" class=\"dataframe\">\n",
       "  <thead>\n",
       "    <tr style=\"text-align: right;\">\n",
       "      <th></th>\n",
       "      <th>area_type</th>\n",
       "      <th>location</th>\n",
       "      <th>size</th>\n",
       "      <th>total_sqft</th>\n",
       "      <th>bath</th>\n",
       "      <th>balcony</th>\n",
       "      <th>price</th>\n",
       "      <th>bhk</th>\n",
       "      <th>price_per_sqft</th>\n",
       "    </tr>\n",
       "  </thead>\n",
       "  <tbody>\n",
       "    <tr>\n",
       "      <th>58</th>\n",
       "      <td>Plot  Area</td>\n",
       "      <td>Murugeshpalya</td>\n",
       "      <td>6 Bedroom</td>\n",
       "      <td>1407.0</td>\n",
       "      <td>4.0</td>\n",
       "      <td>1.0</td>\n",
       "      <td>150.0</td>\n",
       "      <td>6</td>\n",
       "      <td>10660.980810</td>\n",
       "    </tr>\n",
       "    <tr>\n",
       "      <th>68</th>\n",
       "      <td>Plot  Area</td>\n",
       "      <td>Devarachikkanahalli</td>\n",
       "      <td>8 Bedroom</td>\n",
       "      <td>1350.0</td>\n",
       "      <td>7.0</td>\n",
       "      <td>0.0</td>\n",
       "      <td>85.0</td>\n",
       "      <td>8</td>\n",
       "      <td>6296.296296</td>\n",
       "    </tr>\n",
       "    <tr>\n",
       "      <th>70</th>\n",
       "      <td>Plot  Area</td>\n",
       "      <td>other</td>\n",
       "      <td>3 Bedroom</td>\n",
       "      <td>500.0</td>\n",
       "      <td>3.0</td>\n",
       "      <td>2.0</td>\n",
       "      <td>100.0</td>\n",
       "      <td>3</td>\n",
       "      <td>20000.000000</td>\n",
       "    </tr>\n",
       "    <tr>\n",
       "      <th>78</th>\n",
       "      <td>Built-up  Area</td>\n",
       "      <td>Kaval Byrasandra</td>\n",
       "      <td>2 BHK</td>\n",
       "      <td>460.0</td>\n",
       "      <td>1.0</td>\n",
       "      <td>0.0</td>\n",
       "      <td>22.0</td>\n",
       "      <td>2</td>\n",
       "      <td>4782.608696</td>\n",
       "    </tr>\n",
       "    <tr>\n",
       "      <th>89</th>\n",
       "      <td>Plot  Area</td>\n",
       "      <td>Rajaji Nagar</td>\n",
       "      <td>6 Bedroom</td>\n",
       "      <td>710.0</td>\n",
       "      <td>6.0</td>\n",
       "      <td>3.0</td>\n",
       "      <td>160.0</td>\n",
       "      <td>6</td>\n",
       "      <td>22535.211268</td>\n",
       "    </tr>\n",
       "  </tbody>\n",
       "</table>\n",
       "</div>"
      ],
      "text/plain": [
       "         area_type             location       size  total_sqft  bath  balcony  \\\n",
       "58      Plot  Area        Murugeshpalya  6 Bedroom      1407.0   4.0      1.0   \n",
       "68      Plot  Area  Devarachikkanahalli  8 Bedroom      1350.0   7.0      0.0   \n",
       "70      Plot  Area                other  3 Bedroom       500.0   3.0      2.0   \n",
       "78  Built-up  Area     Kaval Byrasandra      2 BHK       460.0   1.0      0.0   \n",
       "89      Plot  Area         Rajaji Nagar  6 Bedroom       710.0   6.0      3.0   \n",
       "\n",
       "    price  bhk  price_per_sqft  \n",
       "58  150.0    6    10660.980810  \n",
       "68   85.0    8     6296.296296  \n",
       "70  100.0    3    20000.000000  \n",
       "78   22.0    2     4782.608696  \n",
       "89  160.0    6    22535.211268  "
      ]
     },
     "execution_count": 238,
     "metadata": {},
     "output_type": "execute_result"
    }
   ],
   "source": [
    "df[df.total_sqft/df.bhk < 300].head()"
   ]
  },
  {
   "cell_type": "markdown",
   "id": "e33856c8-ee47-488e-baab-83529216a099",
   "metadata": {},
   "source": [
    "#### Above data points , we have 6 bhk apartment with total sqft 710 and an 8 bhk apartment with total sqft 1350 . These are clear outliers which should be removed from our data before modelling "
   ]
  },
  {
   "cell_type": "code",
   "execution_count": 239,
   "id": "7803a4bc-bd1b-450f-a32f-1bb7c3563026",
   "metadata": {},
   "outputs": [
    {
     "data": {
      "text/plain": [
       "(12013, 9)"
      ]
     },
     "execution_count": 239,
     "metadata": {},
     "output_type": "execute_result"
    }
   ],
   "source": [
    "df = df[~(df.total_sqft/df.bhk < 300)]  # For pandas DataFrame ~ is used as a logical NOT operator on Boolean Series , it gives all those rows where condition is false \n",
    "df.shape"
   ]
  },
  {
   "cell_type": "code",
   "execution_count": 240,
   "id": "f53f09cf-ad37-45ff-970b-f089d5d6e8c5",
   "metadata": {},
   "outputs": [
    {
     "data": {
      "text/plain": [
       "count     12013.000000\n",
       "mean       6206.082347\n",
       "std        3985.518807\n",
       "min         267.829813\n",
       "25%        4199.363057\n",
       "50%        5252.525253\n",
       "75%        6823.529412\n",
       "max      176470.588235\n",
       "Name: price_per_sqft, dtype: float64"
      ]
     },
     "execution_count": 240,
     "metadata": {},
     "output_type": "execute_result"
    }
   ],
   "source": [
    "df.price_per_sqft.describe()"
   ]
  },
  {
   "cell_type": "markdown",
   "id": "80fd7eec-ab5c-458d-9612-f89d696991b6",
   "metadata": {},
   "source": [
    "#### Here we find that min price per sqft is 267 rs/sqft whereas max is 176470 this shows a wide variation in property prices . We should remove outliers per location using mean and standard deviation. "
   ]
  },
  {
   "cell_type": "code",
   "execution_count": 241,
   "id": "cfc00dcc-e861-4bfb-990a-33aa58eaeca7",
   "metadata": {},
   "outputs": [
    {
     "data": {
      "text/plain": [
       "(9852, 9)"
      ]
     },
     "execution_count": 241,
     "metadata": {},
     "output_type": "execute_result"
    }
   ],
   "source": [
    "def remove_pps_outliers(df):\n",
    "    df_out = pd.DataFrame()\n",
    "    for key , subdf in df.groupby('location'):\n",
    "        m = np.mean(subdf.price_per_sqft)\n",
    "        sd = np.std(subdf.price_per_sqft)\n",
    "        reduced_df= subdf[(subdf.price_per_sqft > ( m - sd)) & ( subdf.price_per_sqft <= ( m + sd ))]\n",
    "        df_out = pd.concat([df_out , reduced_df] , ignore_index = True ) \n",
    "    return df_out \n",
    "df = remove_pps_outliers(df) \n",
    "df.shape "
   ]
  },
  {
   "cell_type": "markdown",
   "id": "989ad4f7-2973-4a46-957b-2fb14d94faf7",
   "metadata": {},
   "source": [
    "#### Let's look out for a given location how does the 2BHK and 3BHK property price looks like "
   ]
  },
  {
   "cell_type": "code",
   "execution_count": 242,
   "id": "1f5651de-0f0f-489a-8e8a-d45f75b5192a",
   "metadata": {},
   "outputs": [
    {
     "data": {
      "text/plain": [
       "<Figure size 2000x1000 with 0 Axes>"
      ]
     },
     "execution_count": 242,
     "metadata": {},
     "output_type": "execute_result"
    }
   ],
   "source": [
    "import matplotlib.pyplot as plt \n",
    "%matplotlib inline  \n",
    "plt.figure(figsize = (20,10))"
   ]
  },
  {
   "cell_type": "code",
   "execution_count": 243,
   "id": "4dc53e4a-1a38-49f2-b066-24732ef224c4",
   "metadata": {},
   "outputs": [
    {
     "data": {
      "text/plain": [
       "<Figure size 2000x1000 with 0 Axes>"
      ]
     },
     "metadata": {},
     "output_type": "display_data"
    },
    {
     "data": {
      "image/png": "[encoded data removed]",
      "text/plain": [
       "<Figure size 1500x1000 with 1 Axes>"
      ]
     },
     "metadata": {},
     "output_type": "display_data"
    }
   ],
   "source": [
    "def plot_scatter_chart(df , location): \n",
    "    bhk2 = df[(df.location == location) & (df.bhk == 2)]\n",
    "    bhk3 = df[(df.location == location) & (df.bhk == 3)]\n",
    "    plt.figure(figsize = (15,10)) \n",
    "    plt.scatter(bhk2.total_sqft , bhk2.price , color = \"blue\" , label = \"2 BHk\" , s = 50 ) \n",
    "    plt.scatter(bhk3.total_sqft , bhk3.price , color = \"green\" , label = \"3 BHK\" , s = 50)\n",
    "    plt.xlabel(\"Total Square Feet Area\") \n",
    "    plt.ylabel(\"Price (Lakh Indian Rupees)\")\n",
    "    plt.title(location)\n",
    "    plt.legend()\n",
    "\n",
    "plot_scatter_chart(df,\"Rajaji Nagar\") \n",
    "plt.show()"
   ]
  },
  {
   "cell_type": "code",
   "execution_count": 244,
   "id": "417b00a5-ad6f-492f-96e7-2283c97537a0",
   "metadata": {},
   "outputs": [
    {
     "data": {
      "image/png": "[encoded data removed]",
      "text/plain": [
       "<Figure size 1500x1000 with 1 Axes>"
      ]
     },
     "metadata": {},
     "output_type": "display_data"
    }
   ],
   "source": [
    "plot_scatter_chart(df,\"Hebbal\")\n",
    "plt.show()"
   ]
  },
  {
   "cell_type": "markdown",
   "id": "e9f803c0-b411-42b5-99c2-a312bebddb19",
   "metadata": {},
   "source": [
    "#### We should also remove those data points where for same location , say price of 3 bedroom apartment is less than 2 bedroom apartment( with same square ft area ) . what we will do is for a given location , we will build a dictionary of stats per bhk  "
   ]
  },
  {
   "cell_type": "markdown",
   "id": "de08ff3d-8f59-4027-a387-a42c5d9e9853",
   "metadata": {},
   "source": [
    "##### Now we can remove those 2 bhk apartments whose price_per_sqft is less than mean price_per_sqft of 1 bhk apartment "
   ]
  },
  {
   "cell_type": "code",
   "execution_count": 245,
   "id": "22a9af55-1cfc-4a4f-9649-fbb1988b5cf9",
   "metadata": {},
   "outputs": [
    {
     "data": {
      "text/plain": [
       "(7014, 9)"
      ]
     },
     "execution_count": 245,
     "metadata": {},
     "output_type": "execute_result"
    }
   ],
   "source": [
    "def remove_bhk_outliers(df):\n",
    "    exclude_indices = np.array([])\n",
    "    for location , location_df in df.groupby('location'):\n",
    "        bhk_stats = {}\n",
    "        for bhk , bhk_df in location_df.groupby('bhk'):\n",
    "            bhk_stats[bhk] = {\n",
    "                'mean' : np.mean(bhk_df.price_per_sqft),\n",
    "                'std'  : np.std(bhk_df.price_per_sqft),\n",
    "                'count' : bhk_df.shape[0]\n",
    "            }\n",
    "            for bhk , bhk_df in location_df.groupby('bhk'):\n",
    "                stats = bhk_stats.get(bhk-1)\n",
    "                if stats and stats['count']>5 :\n",
    "                    exclude_indices = np.append(exclude_indices , bhk_df[bhk_df.price_per_sqft < stats['mean']].index.values)\n",
    "    return df.drop(exclude_indices , axis = 'index')\n",
    "df = remove_bhk_outliers(df) \n",
    "df.shape"
   ]
  },
  {
   "cell_type": "code",
   "execution_count": 246,
   "id": "5286976d-dc58-4340-99d0-6ff444e27fc8",
   "metadata": {},
   "outputs": [
    {
     "data": {
      "image/png": "[encoded data removed]",
      "text/plain": [
       "<Figure size 1500x1000 with 1 Axes>"
      ]
     },
     "metadata": {},
     "output_type": "display_data"
    },
    {
     "data": {
      "image/png": "[encoded data removed]",
      "text/plain": [
       "<Figure size 1500x1000 with 1 Axes>"
      ]
     },
     "metadata": {},
     "output_type": "display_data"
    }
   ],
   "source": [
    "plot_scatter_chart(df , \"Rajaji Nagar\")\n",
    "plot_scatter_chart( df , \"Hebbal\")\n",
    "plt.show()"
   ]
  },
  {
   "cell_type": "code",
   "execution_count": 247,
   "id": "618c4b0e-67dc-4180-a6b6-1f1aee2cf1dd",
   "metadata": {},
   "outputs": [
    {
     "data": {
      "image/png": "[encoded data removed]",
      "text/plain": [
       "<Figure size 2000x1000 with 1 Axes>"
      ]
     },
     "metadata": {},
     "output_type": "display_data"
    }
   ],
   "source": [
    "plt.figure(figsize = (20,10))\n",
    "plt.hist(df.price_per_sqft , rwidth = 0.8)\n",
    "plt.xlabel(\"Price Per Square Feet\")\n",
    "plt.ylabel(\"Count\")\n",
    "plt.show()"
   ]
  },
  {
   "cell_type": "markdown",
   "id": "2afa6e5d-bdf1-473d-9df4-f1745b3406a5",
   "metadata": {},
   "source": [
    "### Outlier Removal using Bathrooms Feature "
   ]
  },
  {
   "cell_type": "code",
   "execution_count": 248,
   "id": "88b8d20a-7b6a-488f-99ec-b72f5d384d85",
   "metadata": {},
   "outputs": [
    {
     "data": {
      "text/plain": [
       "array([ 4.,  3.,  2.,  8.,  1.,  5.,  6.,  7.,  9., 13.])"
      ]
     },
     "execution_count": 248,
     "metadata": {},
     "output_type": "execute_result"
    }
   ],
   "source": [
    "df.bath.unique()"
   ]
  },
  {
   "cell_type": "code",
   "execution_count": 249,
   "id": "6e0f212b-64f7-4695-9140-22a43f0aef9a",
   "metadata": {},
   "outputs": [
    {
     "data": {
      "image/png": "[encoded data removed]",
      "text/plain": [
       "<Figure size 640x480 with 1 Axes>"
      ]
     },
     "metadata": {},
     "output_type": "display_data"
    }
   ],
   "source": [
    "plt.hist(df.bath, rwidth = 0.8 )\n",
    "plt.xlabel(\"Number of bathrooms\")\n",
    "plt.ylabel(\"Count\")\n",
    "plt.show()"
   ]
  },
  {
   "cell_type": "code",
   "execution_count": 250,
   "id": "f103d6cd-77a8-4eba-a244-9517e0d7b000",
   "metadata": {},
   "outputs": [
    {
     "data": {
      "text/html": [
       "<div>\n",
       "<style scoped>\n",
       "    .dataframe tbody tr th:only-of-type {\n",
       "        vertical-align: middle;\n",
       "    }\n",
       "\n",
       "    .dataframe tbody tr th {\n",
       "        vertical-align: top;\n",
       "    }\n",
       "\n",
       "    .dataframe thead th {\n",
       "        text-align: right;\n",
       "    }\n",
       "</style>\n",
       "<table border=\"1\" class=\"dataframe\">\n",
       "  <thead>\n",
       "    <tr style=\"text-align: right;\">\n",
       "      <th></th>\n",
       "      <th>area_type</th>\n",
       "      <th>location</th>\n",
       "      <th>size</th>\n",
       "      <th>total_sqft</th>\n",
       "      <th>bath</th>\n",
       "      <th>balcony</th>\n",
       "      <th>price</th>\n",
       "      <th>bhk</th>\n",
       "      <th>price_per_sqft</th>\n",
       "    </tr>\n",
       "  </thead>\n",
       "  <tbody>\n",
       "    <tr>\n",
       "      <th>9267</th>\n",
       "      <td>Super built-up  Area</td>\n",
       "      <td>other</td>\n",
       "      <td>13 BHK</td>\n",
       "      <td>5425.0</td>\n",
       "      <td>13.0</td>\n",
       "      <td>0.0</td>\n",
       "      <td>275.0</td>\n",
       "      <td>13</td>\n",
       "      <td>5069.124424</td>\n",
       "    </tr>\n",
       "  </tbody>\n",
       "</table>\n",
       "</div>"
      ],
      "text/plain": [
       "                 area_type location    size  total_sqft  bath  balcony  price  \\\n",
       "9267  Super built-up  Area    other  13 BHK      5425.0  13.0      0.0  275.0   \n",
       "\n",
       "      bhk  price_per_sqft  \n",
       "9267   13     5069.124424  "
      ]
     },
     "execution_count": 250,
     "metadata": {},
     "output_type": "execute_result"
    }
   ],
   "source": [
    "df[df.bath> 10]"
   ]
  },
  {
   "cell_type": "markdown",
   "id": "1c5eeb3f-c705-440f-9768-492f086fdf29",
   "metadata": {},
   "source": [
    "#### It is unusual to have 2 more bathrooms than number of bedrooms in a home "
   ]
  },
  {
   "cell_type": "code",
   "execution_count": 251,
   "id": "d30860ac-b9cd-460c-8597-dbf3f89b4b6d",
   "metadata": {},
   "outputs": [
    {
     "data": {
      "text/html": [
       "<div>\n",
       "<style scoped>\n",
       "    .dataframe tbody tr th:only-of-type {\n",
       "        vertical-align: middle;\n",
       "    }\n",
       "\n",
       "    .dataframe tbody tr th {\n",
       "        vertical-align: top;\n",
       "    }\n",
       "\n",
       "    .dataframe thead th {\n",
       "        text-align: right;\n",
       "    }\n",
       "</style>\n",
       "<table border=\"1\" class=\"dataframe\">\n",
       "  <thead>\n",
       "    <tr style=\"text-align: right;\">\n",
       "      <th></th>\n",
       "      <th>area_type</th>\n",
       "      <th>location</th>\n",
       "      <th>size</th>\n",
       "      <th>total_sqft</th>\n",
       "      <th>bath</th>\n",
       "      <th>balcony</th>\n",
       "      <th>price</th>\n",
       "      <th>bhk</th>\n",
       "      <th>price_per_sqft</th>\n",
       "    </tr>\n",
       "  </thead>\n",
       "  <tbody>\n",
       "    <tr>\n",
       "      <th>1542</th>\n",
       "      <td>Built-up  Area</td>\n",
       "      <td>Chikkabanavar</td>\n",
       "      <td>4 Bedroom</td>\n",
       "      <td>2460.0</td>\n",
       "      <td>7.0</td>\n",
       "      <td>2.0</td>\n",
       "      <td>80.0</td>\n",
       "      <td>4</td>\n",
       "      <td>3252.032520</td>\n",
       "    </tr>\n",
       "    <tr>\n",
       "      <th>6443</th>\n",
       "      <td>Super built-up  Area</td>\n",
       "      <td>Thanisandra</td>\n",
       "      <td>3 BHK</td>\n",
       "      <td>1806.0</td>\n",
       "      <td>6.0</td>\n",
       "      <td>2.0</td>\n",
       "      <td>116.0</td>\n",
       "      <td>3</td>\n",
       "      <td>6423.034330</td>\n",
       "    </tr>\n",
       "    <tr>\n",
       "      <th>8082</th>\n",
       "      <td>Super built-up  Area</td>\n",
       "      <td>other</td>\n",
       "      <td>6 BHK</td>\n",
       "      <td>11338.0</td>\n",
       "      <td>9.0</td>\n",
       "      <td>1.0</td>\n",
       "      <td>1000.0</td>\n",
       "      <td>6</td>\n",
       "      <td>8819.897689</td>\n",
       "    </tr>\n",
       "  </tbody>\n",
       "</table>\n",
       "</div>"
      ],
      "text/plain": [
       "                 area_type       location       size  total_sqft  bath  \\\n",
       "1542        Built-up  Area  Chikkabanavar  4 Bedroom      2460.0   7.0   \n",
       "6443  Super built-up  Area    Thanisandra      3 BHK      1806.0   6.0   \n",
       "8082  Super built-up  Area          other      6 BHK     11338.0   9.0   \n",
       "\n",
       "      balcony   price  bhk  price_per_sqft  \n",
       "1542      2.0    80.0    4     3252.032520  \n",
       "6443      2.0   116.0    3     6423.034330  \n",
       "8082      1.0  1000.0    6     8819.897689  "
      ]
     },
     "execution_count": 251,
     "metadata": {},
     "output_type": "execute_result"
    }
   ],
   "source": [
    "df[df.bath > df.bhk + 2]"
   ]
  },
  {
   "cell_type": "code",
   "execution_count": 252,
   "id": "1b2cd49a-8b30-44de-952b-ad62bdc58db0",
   "metadata": {},
   "outputs": [
    {
     "name": "stdout",
     "output_type": "stream",
     "text": [
      "                 area_type             location       size  total_sqft  bath  \\\n",
      "0     Super built-up  Area  1st Block Jayanagar      4 BHK      2850.0   4.0   \n",
      "1     Super built-up  Area  1st Block Jayanagar      3 BHK      1630.0   3.0   \n",
      "2     Super built-up  Area  1st Block Jayanagar      3 BHK      1875.0   2.0   \n",
      "3           Built-up  Area  1st Block Jayanagar      3 BHK      1200.0   2.0   \n",
      "4     Super built-up  Area  1st Block Jayanagar      2 BHK      1235.0   2.0   \n",
      "...                    ...                  ...        ...         ...   ...   \n",
      "9842  Super built-up  Area                other      2 BHK      1155.0   2.0   \n",
      "9844          Carpet  Area                other      2 BHK      1200.0   2.0   \n",
      "9845  Super built-up  Area                other      1 BHK      1800.0   1.0   \n",
      "9848  Super built-up  Area                other      2 BHK      1353.0   2.0   \n",
      "9849            Plot  Area                other  1 Bedroom       812.0   1.0   \n",
      "\n",
      "      balcony  price  bhk  price_per_sqft  \n",
      "0         1.0  428.0    4    15017.543860  \n",
      "1         2.0  194.0    3    11901.840491  \n",
      "2         3.0  235.0    3    12533.333333  \n",
      "3         0.0  130.0    3    10833.333333  \n",
      "4         2.0  148.0    2    11983.805668  \n",
      "...       ...    ...  ...             ...  \n",
      "9842      1.0   64.0    2     5541.125541  \n",
      "9844      3.0   70.0    2     5833.333333  \n",
      "9845      1.0  200.0    1    11111.111111  \n",
      "9848      2.0  110.0    2     8130.081301  \n",
      "9849      0.0   26.0    1     3201.970443  \n",
      "\n",
      "[7014 rows x 9 columns]\n"
     ]
    }
   ],
   "source": [
    "print(df)"
   ]
  },
  {
   "cell_type": "markdown",
   "id": "c2ef1a0c-ec48-4b52-b064-ec970349af93",
   "metadata": {},
   "source": [
    "##### Again a business manager have a conversation with you that if you have 4 bedroom home and even if you have bathroom in all 4 rooms plus one guest bathroom , you will have total bath = total bedroom + 1 max . Anything above that is an outlier or a data error and can be removed . "
   ]
  },
  {
   "cell_type": "code",
   "execution_count": 253,
   "id": "479c4b72-879e-4c93-bd9f-c05d29d0e4af",
   "metadata": {},
   "outputs": [
    {
     "data": {
      "text/plain": [
       "(6947, 9)"
      ]
     },
     "execution_count": 253,
     "metadata": {},
     "output_type": "execute_result"
    }
   ],
   "source": [
    "df = df[df.bath < df.bhk + 2]\n",
    "df.shape"
   ]
  },
  {
   "cell_type": "code",
   "execution_count": 254,
   "id": "5ef3e98b-7eee-418b-b17b-e9428dba6a95",
   "metadata": {},
   "outputs": [
    {
     "data": {
      "text/plain": [
       "4"
      ]
     },
     "execution_count": 254,
     "metadata": {},
     "output_type": "execute_result"
    }
   ],
   "source": [
    "df.area_type.nunique()"
   ]
  },
  {
   "cell_type": "code",
   "execution_count": 255,
   "id": "7fcccac9-bfa7-4e50-a341-a97c53080fc2",
   "metadata": {},
   "outputs": [
    {
     "data": {
      "text/html": [
       "<div>\n",
       "<style scoped>\n",
       "    .dataframe tbody tr th:only-of-type {\n",
       "        vertical-align: middle;\n",
       "    }\n",
       "\n",
       "    .dataframe tbody tr th {\n",
       "        vertical-align: top;\n",
       "    }\n",
       "\n",
       "    .dataframe thead th {\n",
       "        text-align: right;\n",
       "    }\n",
       "</style>\n",
       "<table border=\"1\" class=\"dataframe\">\n",
       "  <thead>\n",
       "    <tr style=\"text-align: right;\">\n",
       "      <th></th>\n",
       "      <th>area_type</th>\n",
       "      <th>location</th>\n",
       "      <th>size</th>\n",
       "      <th>total_sqft</th>\n",
       "      <th>bath</th>\n",
       "      <th>balcony</th>\n",
       "      <th>price</th>\n",
       "      <th>bhk</th>\n",
       "      <th>price_per_sqft</th>\n",
       "    </tr>\n",
       "  </thead>\n",
       "  <tbody>\n",
       "    <tr>\n",
       "      <th>0</th>\n",
       "      <td>Super built-up  Area</td>\n",
       "      <td>1st Block Jayanagar</td>\n",
       "      <td>4 BHK</td>\n",
       "      <td>2850.0</td>\n",
       "      <td>4.0</td>\n",
       "      <td>1.0</td>\n",
       "      <td>428.0</td>\n",
       "      <td>4</td>\n",
       "      <td>15017.543860</td>\n",
       "    </tr>\n",
       "    <tr>\n",
       "      <th>1</th>\n",
       "      <td>Super built-up  Area</td>\n",
       "      <td>1st Block Jayanagar</td>\n",
       "      <td>3 BHK</td>\n",
       "      <td>1630.0</td>\n",
       "      <td>3.0</td>\n",
       "      <td>2.0</td>\n",
       "      <td>194.0</td>\n",
       "      <td>3</td>\n",
       "      <td>11901.840491</td>\n",
       "    </tr>\n",
       "    <tr>\n",
       "      <th>2</th>\n",
       "      <td>Super built-up  Area</td>\n",
       "      <td>1st Block Jayanagar</td>\n",
       "      <td>3 BHK</td>\n",
       "      <td>1875.0</td>\n",
       "      <td>2.0</td>\n",
       "      <td>3.0</td>\n",
       "      <td>235.0</td>\n",
       "      <td>3</td>\n",
       "      <td>12533.333333</td>\n",
       "    </tr>\n",
       "    <tr>\n",
       "      <th>3</th>\n",
       "      <td>Built-up  Area</td>\n",
       "      <td>1st Block Jayanagar</td>\n",
       "      <td>3 BHK</td>\n",
       "      <td>1200.0</td>\n",
       "      <td>2.0</td>\n",
       "      <td>0.0</td>\n",
       "      <td>130.0</td>\n",
       "      <td>3</td>\n",
       "      <td>10833.333333</td>\n",
       "    </tr>\n",
       "    <tr>\n",
       "      <th>4</th>\n",
       "      <td>Super built-up  Area</td>\n",
       "      <td>1st Block Jayanagar</td>\n",
       "      <td>2 BHK</td>\n",
       "      <td>1235.0</td>\n",
       "      <td>2.0</td>\n",
       "      <td>2.0</td>\n",
       "      <td>148.0</td>\n",
       "      <td>2</td>\n",
       "      <td>11983.805668</td>\n",
       "    </tr>\n",
       "  </tbody>\n",
       "</table>\n",
       "</div>"
      ],
      "text/plain": [
       "              area_type             location   size  total_sqft  bath  \\\n",
       "0  Super built-up  Area  1st Block Jayanagar  4 BHK      2850.0   4.0   \n",
       "1  Super built-up  Area  1st Block Jayanagar  3 BHK      1630.0   3.0   \n",
       "2  Super built-up  Area  1st Block Jayanagar  3 BHK      1875.0   2.0   \n",
       "3        Built-up  Area  1st Block Jayanagar  3 BHK      1200.0   2.0   \n",
       "4  Super built-up  Area  1st Block Jayanagar  2 BHK      1235.0   2.0   \n",
       "\n",
       "   balcony  price  bhk  price_per_sqft  \n",
       "0      1.0  428.0    4    15017.543860  \n",
       "1      2.0  194.0    3    11901.840491  \n",
       "2      3.0  235.0    3    12533.333333  \n",
       "3      0.0  130.0    3    10833.333333  \n",
       "4      2.0  148.0    2    11983.805668  "
      ]
     },
     "execution_count": 255,
     "metadata": {},
     "output_type": "execute_result"
    }
   ],
   "source": [
    "df.head()"
   ]
  },
  {
   "cell_type": "code",
   "execution_count": 256,
   "id": "7a1c06e0-467e-48c4-a333-b2dfa1cd6145",
   "metadata": {},
   "outputs": [],
   "source": [
    "df = df.drop(['size' , 'price_per_sqft'] ,axis = 'columns') ## because we already have a column (bhk) that carries the same information in a cleaner form and we used price_per_sqft for outlier detection , after removing outliers you don't really need price_per_sqft for model training keeping it may cause data leakage "
   ]
  },
  {
   "cell_type": "markdown",
   "id": "bc0d7ad8-e94b-4619-b30b-2d1315135b3a",
   "metadata": {},
   "source": [
    "### One Hot Encoding for Location "
   ]
  },
  {
   "cell_type": "code",
   "execution_count": 257,
   "id": "06f5aaaf-5141-4576-96cb-f234538216a5",
   "metadata": {},
   "outputs": [
    {
     "data": {
      "text/html": [
       "<div>\n",
       "<style scoped>\n",
       "    .dataframe tbody tr th:only-of-type {\n",
       "        vertical-align: middle;\n",
       "    }\n",
       "\n",
       "    .dataframe tbody tr th {\n",
       "        vertical-align: top;\n",
       "    }\n",
       "\n",
       "    .dataframe thead th {\n",
       "        text-align: right;\n",
       "    }\n",
       "</style>\n",
       "<table border=\"1\" class=\"dataframe\">\n",
       "  <thead>\n",
       "    <tr style=\"text-align: right;\">\n",
       "      <th></th>\n",
       "      <th>1st Block Jayanagar</th>\n",
       "      <th>1st Phase JP Nagar</th>\n",
       "      <th>2nd Phase Judicial Layout</th>\n",
       "      <th>2nd Stage Nagarbhavi</th>\n",
       "      <th>5th Phase JP Nagar</th>\n",
       "      <th>6th Phase JP Nagar</th>\n",
       "      <th>7th Phase JP Nagar</th>\n",
       "      <th>8th Phase JP Nagar</th>\n",
       "      <th>9th Phase JP Nagar</th>\n",
       "      <th>AECS Layout</th>\n",
       "      <th>...</th>\n",
       "      <th>Vishveshwarya Layout</th>\n",
       "      <th>Vishwapriya Layout</th>\n",
       "      <th>Vittasandra</th>\n",
       "      <th>Whitefield</th>\n",
       "      <th>Yelachenahalli</th>\n",
       "      <th>Yelahanka</th>\n",
       "      <th>Yelahanka New Town</th>\n",
       "      <th>Yelenahalli</th>\n",
       "      <th>Yeshwanthpur</th>\n",
       "      <th>other</th>\n",
       "    </tr>\n",
       "  </thead>\n",
       "  <tbody>\n",
       "    <tr>\n",
       "      <th>0</th>\n",
       "      <td>1.0</td>\n",
       "      <td>0.0</td>\n",
       "      <td>0.0</td>\n",
       "      <td>0.0</td>\n",
       "      <td>0.0</td>\n",
       "      <td>0.0</td>\n",
       "      <td>0.0</td>\n",
       "      <td>0.0</td>\n",
       "      <td>0.0</td>\n",
       "      <td>0.0</td>\n",
       "      <td>...</td>\n",
       "      <td>0.0</td>\n",
       "      <td>0.0</td>\n",
       "      <td>0.0</td>\n",
       "      <td>0.0</td>\n",
       "      <td>0.0</td>\n",
       "      <td>0.0</td>\n",
       "      <td>0.0</td>\n",
       "      <td>0.0</td>\n",
       "      <td>0.0</td>\n",
       "      <td>0.0</td>\n",
       "    </tr>\n",
       "    <tr>\n",
       "      <th>1</th>\n",
       "      <td>1.0</td>\n",
       "      <td>0.0</td>\n",
       "      <td>0.0</td>\n",
       "      <td>0.0</td>\n",
       "      <td>0.0</td>\n",
       "      <td>0.0</td>\n",
       "      <td>0.0</td>\n",
       "      <td>0.0</td>\n",
       "      <td>0.0</td>\n",
       "      <td>0.0</td>\n",
       "      <td>...</td>\n",
       "      <td>0.0</td>\n",
       "      <td>0.0</td>\n",
       "      <td>0.0</td>\n",
       "      <td>0.0</td>\n",
       "      <td>0.0</td>\n",
       "      <td>0.0</td>\n",
       "      <td>0.0</td>\n",
       "      <td>0.0</td>\n",
       "      <td>0.0</td>\n",
       "      <td>0.0</td>\n",
       "    </tr>\n",
       "    <tr>\n",
       "      <th>2</th>\n",
       "      <td>1.0</td>\n",
       "      <td>0.0</td>\n",
       "      <td>0.0</td>\n",
       "      <td>0.0</td>\n",
       "      <td>0.0</td>\n",
       "      <td>0.0</td>\n",
       "      <td>0.0</td>\n",
       "      <td>0.0</td>\n",
       "      <td>0.0</td>\n",
       "      <td>0.0</td>\n",
       "      <td>...</td>\n",
       "      <td>0.0</td>\n",
       "      <td>0.0</td>\n",
       "      <td>0.0</td>\n",
       "      <td>0.0</td>\n",
       "      <td>0.0</td>\n",
       "      <td>0.0</td>\n",
       "      <td>0.0</td>\n",
       "      <td>0.0</td>\n",
       "      <td>0.0</td>\n",
       "      <td>0.0</td>\n",
       "    </tr>\n",
       "  </tbody>\n",
       "</table>\n",
       "<p>3 rows × 236 columns</p>\n",
       "</div>"
      ],
      "text/plain": [
       "   1st Block Jayanagar  1st Phase JP Nagar  2nd Phase Judicial Layout  \\\n",
       "0                  1.0                 0.0                        0.0   \n",
       "1                  1.0                 0.0                        0.0   \n",
       "2                  1.0                 0.0                        0.0   \n",
       "\n",
       "   2nd Stage Nagarbhavi  5th Phase JP Nagar  6th Phase JP Nagar  \\\n",
       "0                   0.0                 0.0                 0.0   \n",
       "1                   0.0                 0.0                 0.0   \n",
       "2                   0.0                 0.0                 0.0   \n",
       "\n",
       "   7th Phase JP Nagar  8th Phase JP Nagar  9th Phase JP Nagar  AECS Layout  \\\n",
       "0                 0.0                 0.0                 0.0          0.0   \n",
       "1                 0.0                 0.0                 0.0          0.0   \n",
       "2                 0.0                 0.0                 0.0          0.0   \n",
       "\n",
       "   ...  Vishveshwarya Layout  Vishwapriya Layout  Vittasandra  Whitefield  \\\n",
       "0  ...                   0.0                 0.0          0.0         0.0   \n",
       "1  ...                   0.0                 0.0          0.0         0.0   \n",
       "2  ...                   0.0                 0.0          0.0         0.0   \n",
       "\n",
       "   Yelachenahalli  Yelahanka  Yelahanka New Town  Yelenahalli  Yeshwanthpur  \\\n",
       "0             0.0        0.0                 0.0          0.0           0.0   \n",
       "1             0.0        0.0                 0.0          0.0           0.0   \n",
       "2             0.0        0.0                 0.0          0.0           0.0   \n",
       "\n",
       "   other  \n",
       "0    0.0  \n",
       "1    0.0  \n",
       "2    0.0  \n",
       "\n",
       "[3 rows x 236 columns]"
      ]
     },
     "execution_count": 257,
     "metadata": {},
     "output_type": "execute_result"
    }
   ],
   "source": [
    "dummies = pd.get_dummies(df.location , dtype = float ) ## converts each unique category in location(categorical column) into a new column , Each column have values 0.0 or 1.0\n",
    "dummies.head(3)"
   ]
  },
  {
   "cell_type": "code",
   "execution_count": 258,
   "id": "b7f99487-5c27-47ce-a0f4-aab7d088b1d8",
   "metadata": {},
   "outputs": [
    {
     "data": {
      "text/html": [
       "<div>\n",
       "<style scoped>\n",
       "    .dataframe tbody tr th:only-of-type {\n",
       "        vertical-align: middle;\n",
       "    }\n",
       "\n",
       "    .dataframe tbody tr th {\n",
       "        vertical-align: top;\n",
       "    }\n",
       "\n",
       "    .dataframe thead th {\n",
       "        text-align: right;\n",
       "    }\n",
       "</style>\n",
       "<table border=\"1\" class=\"dataframe\">\n",
       "  <thead>\n",
       "    <tr style=\"text-align: right;\">\n",
       "      <th></th>\n",
       "      <th>area_type</th>\n",
       "      <th>location</th>\n",
       "      <th>total_sqft</th>\n",
       "      <th>bath</th>\n",
       "      <th>balcony</th>\n",
       "      <th>price</th>\n",
       "      <th>bhk</th>\n",
       "      <th>1st Block Jayanagar</th>\n",
       "      <th>1st Phase JP Nagar</th>\n",
       "      <th>2nd Phase Judicial Layout</th>\n",
       "      <th>...</th>\n",
       "      <th>Vijayanagar</th>\n",
       "      <th>Vishveshwarya Layout</th>\n",
       "      <th>Vishwapriya Layout</th>\n",
       "      <th>Vittasandra</th>\n",
       "      <th>Whitefield</th>\n",
       "      <th>Yelachenahalli</th>\n",
       "      <th>Yelahanka</th>\n",
       "      <th>Yelahanka New Town</th>\n",
       "      <th>Yelenahalli</th>\n",
       "      <th>Yeshwanthpur</th>\n",
       "    </tr>\n",
       "  </thead>\n",
       "  <tbody>\n",
       "    <tr>\n",
       "      <th>0</th>\n",
       "      <td>Super built-up  Area</td>\n",
       "      <td>1st Block Jayanagar</td>\n",
       "      <td>2850.0</td>\n",
       "      <td>4.0</td>\n",
       "      <td>1.0</td>\n",
       "      <td>428.0</td>\n",
       "      <td>4</td>\n",
       "      <td>1.0</td>\n",
       "      <td>0.0</td>\n",
       "      <td>0.0</td>\n",
       "      <td>...</td>\n",
       "      <td>0.0</td>\n",
       "      <td>0.0</td>\n",
       "      <td>0.0</td>\n",
       "      <td>0.0</td>\n",
       "      <td>0.0</td>\n",
       "      <td>0.0</td>\n",
       "      <td>0.0</td>\n",
       "      <td>0.0</td>\n",
       "      <td>0.0</td>\n",
       "      <td>0.0</td>\n",
       "    </tr>\n",
       "    <tr>\n",
       "      <th>1</th>\n",
       "      <td>Super built-up  Area</td>\n",
       "      <td>1st Block Jayanagar</td>\n",
       "      <td>1630.0</td>\n",
       "      <td>3.0</td>\n",
       "      <td>2.0</td>\n",
       "      <td>194.0</td>\n",
       "      <td>3</td>\n",
       "      <td>1.0</td>\n",
       "      <td>0.0</td>\n",
       "      <td>0.0</td>\n",
       "      <td>...</td>\n",
       "      <td>0.0</td>\n",
       "      <td>0.0</td>\n",
       "      <td>0.0</td>\n",
       "      <td>0.0</td>\n",
       "      <td>0.0</td>\n",
       "      <td>0.0</td>\n",
       "      <td>0.0</td>\n",
       "      <td>0.0</td>\n",
       "      <td>0.0</td>\n",
       "      <td>0.0</td>\n",
       "    </tr>\n",
       "    <tr>\n",
       "      <th>2</th>\n",
       "      <td>Super built-up  Area</td>\n",
       "      <td>1st Block Jayanagar</td>\n",
       "      <td>1875.0</td>\n",
       "      <td>2.0</td>\n",
       "      <td>3.0</td>\n",
       "      <td>235.0</td>\n",
       "      <td>3</td>\n",
       "      <td>1.0</td>\n",
       "      <td>0.0</td>\n",
       "      <td>0.0</td>\n",
       "      <td>...</td>\n",
       "      <td>0.0</td>\n",
       "      <td>0.0</td>\n",
       "      <td>0.0</td>\n",
       "      <td>0.0</td>\n",
       "      <td>0.0</td>\n",
       "      <td>0.0</td>\n",
       "      <td>0.0</td>\n",
       "      <td>0.0</td>\n",
       "      <td>0.0</td>\n",
       "      <td>0.0</td>\n",
       "    </tr>\n",
       "    <tr>\n",
       "      <th>3</th>\n",
       "      <td>Built-up  Area</td>\n",
       "      <td>1st Block Jayanagar</td>\n",
       "      <td>1200.0</td>\n",
       "      <td>2.0</td>\n",
       "      <td>0.0</td>\n",
       "      <td>130.0</td>\n",
       "      <td>3</td>\n",
       "      <td>1.0</td>\n",
       "      <td>0.0</td>\n",
       "      <td>0.0</td>\n",
       "      <td>...</td>\n",
       "      <td>0.0</td>\n",
       "      <td>0.0</td>\n",
       "      <td>0.0</td>\n",
       "      <td>0.0</td>\n",
       "      <td>0.0</td>\n",
       "      <td>0.0</td>\n",
       "      <td>0.0</td>\n",
       "      <td>0.0</td>\n",
       "      <td>0.0</td>\n",
       "      <td>0.0</td>\n",
       "    </tr>\n",
       "    <tr>\n",
       "      <th>4</th>\n",
       "      <td>Super built-up  Area</td>\n",
       "      <td>1st Block Jayanagar</td>\n",
       "      <td>1235.0</td>\n",
       "      <td>2.0</td>\n",
       "      <td>2.0</td>\n",
       "      <td>148.0</td>\n",
       "      <td>2</td>\n",
       "      <td>1.0</td>\n",
       "      <td>0.0</td>\n",
       "      <td>0.0</td>\n",
       "      <td>...</td>\n",
       "      <td>0.0</td>\n",
       "      <td>0.0</td>\n",
       "      <td>0.0</td>\n",
       "      <td>0.0</td>\n",
       "      <td>0.0</td>\n",
       "      <td>0.0</td>\n",
       "      <td>0.0</td>\n",
       "      <td>0.0</td>\n",
       "      <td>0.0</td>\n",
       "      <td>0.0</td>\n",
       "    </tr>\n",
       "  </tbody>\n",
       "</table>\n",
       "<p>5 rows × 242 columns</p>\n",
       "</div>"
      ],
      "text/plain": [
       "              area_type             location  total_sqft  bath  balcony  \\\n",
       "0  Super built-up  Area  1st Block Jayanagar      2850.0   4.0      1.0   \n",
       "1  Super built-up  Area  1st Block Jayanagar      1630.0   3.0      2.0   \n",
       "2  Super built-up  Area  1st Block Jayanagar      1875.0   2.0      3.0   \n",
       "3        Built-up  Area  1st Block Jayanagar      1200.0   2.0      0.0   \n",
       "4  Super built-up  Area  1st Block Jayanagar      1235.0   2.0      2.0   \n",
       "\n",
       "   price  bhk  1st Block Jayanagar  1st Phase JP Nagar  \\\n",
       "0  428.0    4                  1.0                 0.0   \n",
       "1  194.0    3                  1.0                 0.0   \n",
       "2  235.0    3                  1.0                 0.0   \n",
       "3  130.0    3                  1.0                 0.0   \n",
       "4  148.0    2                  1.0                 0.0   \n",
       "\n",
       "   2nd Phase Judicial Layout  ...  Vijayanagar  Vishveshwarya Layout  \\\n",
       "0                        0.0  ...          0.0                   0.0   \n",
       "1                        0.0  ...          0.0                   0.0   \n",
       "2                        0.0  ...          0.0                   0.0   \n",
       "3                        0.0  ...          0.0                   0.0   \n",
       "4                        0.0  ...          0.0                   0.0   \n",
       "\n",
       "   Vishwapriya Layout  Vittasandra  Whitefield  Yelachenahalli  Yelahanka  \\\n",
       "0                 0.0          0.0         0.0             0.0        0.0   \n",
       "1                 0.0          0.0         0.0             0.0        0.0   \n",
       "2                 0.0          0.0         0.0             0.0        0.0   \n",
       "3                 0.0          0.0         0.0             0.0        0.0   \n",
       "4                 0.0          0.0         0.0             0.0        0.0   \n",
       "\n",
       "   Yelahanka New Town  Yelenahalli  Yeshwanthpur  \n",
       "0                 0.0          0.0           0.0  \n",
       "1                 0.0          0.0           0.0  \n",
       "2                 0.0          0.0           0.0  \n",
       "3                 0.0          0.0           0.0  \n",
       "4                 0.0          0.0           0.0  \n",
       "\n",
       "[5 rows x 242 columns]"
      ]
     },
     "execution_count": 258,
     "metadata": {},
     "output_type": "execute_result"
    }
   ],
   "source": [
    "df = pd.concat([df , dummies.drop('other' , axis = 'columns')] , axis = 'columns')\n",
    "df.head()"
   ]
  },
  {
   "cell_type": "code",
   "execution_count": 259,
   "id": "0fb02068-612a-48b5-a79c-5537fa083ace",
   "metadata": {},
   "outputs": [],
   "source": [
    "df = df.drop('location' , axis = 'columns')"
   ]
  },
  {
   "cell_type": "code",
   "execution_count": 260,
   "id": "b3ee935e-7de5-49ed-9f09-83b38b182abb",
   "metadata": {},
   "outputs": [
    {
     "data": {
      "text/html": [
       "<div>\n",
       "<style scoped>\n",
       "    .dataframe tbody tr th:only-of-type {\n",
       "        vertical-align: middle;\n",
       "    }\n",
       "\n",
       "    .dataframe tbody tr th {\n",
       "        vertical-align: top;\n",
       "    }\n",
       "\n",
       "    .dataframe thead th {\n",
       "        text-align: right;\n",
       "    }\n",
       "</style>\n",
       "<table border=\"1\" class=\"dataframe\">\n",
       "  <thead>\n",
       "    <tr style=\"text-align: right;\">\n",
       "      <th></th>\n",
       "      <th>total_sqft</th>\n",
       "      <th>bath</th>\n",
       "      <th>balcony</th>\n",
       "      <th>price</th>\n",
       "      <th>bhk</th>\n",
       "      <th>1st Block Jayanagar</th>\n",
       "      <th>1st Phase JP Nagar</th>\n",
       "      <th>2nd Phase Judicial Layout</th>\n",
       "      <th>2nd Stage Nagarbhavi</th>\n",
       "      <th>5th Phase JP Nagar</th>\n",
       "      <th>...</th>\n",
       "      <th>Vittasandra</th>\n",
       "      <th>Whitefield</th>\n",
       "      <th>Yelachenahalli</th>\n",
       "      <th>Yelahanka</th>\n",
       "      <th>Yelahanka New Town</th>\n",
       "      <th>Yelenahalli</th>\n",
       "      <th>Yeshwanthpur</th>\n",
       "      <th>area_type_Carpet  Area</th>\n",
       "      <th>area_type_Plot  Area</th>\n",
       "      <th>area_type_Super built-up  Area</th>\n",
       "    </tr>\n",
       "  </thead>\n",
       "  <tbody>\n",
       "    <tr>\n",
       "      <th>0</th>\n",
       "      <td>2850.0</td>\n",
       "      <td>4.0</td>\n",
       "      <td>1.0</td>\n",
       "      <td>428.0</td>\n",
       "      <td>4</td>\n",
       "      <td>1.0</td>\n",
       "      <td>0.0</td>\n",
       "      <td>0.0</td>\n",
       "      <td>0.0</td>\n",
       "      <td>0.0</td>\n",
       "      <td>...</td>\n",
       "      <td>0.0</td>\n",
       "      <td>0.0</td>\n",
       "      <td>0.0</td>\n",
       "      <td>0.0</td>\n",
       "      <td>0.0</td>\n",
       "      <td>0.0</td>\n",
       "      <td>0.0</td>\n",
       "      <td>False</td>\n",
       "      <td>False</td>\n",
       "      <td>True</td>\n",
       "    </tr>\n",
       "    <tr>\n",
       "      <th>1</th>\n",
       "      <td>1630.0</td>\n",
       "      <td>3.0</td>\n",
       "      <td>2.0</td>\n",
       "      <td>194.0</td>\n",
       "      <td>3</td>\n",
       "      <td>1.0</td>\n",
       "      <td>0.0</td>\n",
       "      <td>0.0</td>\n",
       "      <td>0.0</td>\n",
       "      <td>0.0</td>\n",
       "      <td>...</td>\n",
       "      <td>0.0</td>\n",
       "      <td>0.0</td>\n",
       "      <td>0.0</td>\n",
       "      <td>0.0</td>\n",
       "      <td>0.0</td>\n",
       "      <td>0.0</td>\n",
       "      <td>0.0</td>\n",
       "      <td>False</td>\n",
       "      <td>False</td>\n",
       "      <td>True</td>\n",
       "    </tr>\n",
       "    <tr>\n",
       "      <th>2</th>\n",
       "      <td>1875.0</td>\n",
       "      <td>2.0</td>\n",
       "      <td>3.0</td>\n",
       "      <td>235.0</td>\n",
       "      <td>3</td>\n",
       "      <td>1.0</td>\n",
       "      <td>0.0</td>\n",
       "      <td>0.0</td>\n",
       "      <td>0.0</td>\n",
       "      <td>0.0</td>\n",
       "      <td>...</td>\n",
       "      <td>0.0</td>\n",
       "      <td>0.0</td>\n",
       "      <td>0.0</td>\n",
       "      <td>0.0</td>\n",
       "      <td>0.0</td>\n",
       "      <td>0.0</td>\n",
       "      <td>0.0</td>\n",
       "      <td>False</td>\n",
       "      <td>False</td>\n",
       "      <td>True</td>\n",
       "    </tr>\n",
       "    <tr>\n",
       "      <th>3</th>\n",
       "      <td>1200.0</td>\n",
       "      <td>2.0</td>\n",
       "      <td>0.0</td>\n",
       "      <td>130.0</td>\n",
       "      <td>3</td>\n",
       "      <td>1.0</td>\n",
       "      <td>0.0</td>\n",
       "      <td>0.0</td>\n",
       "      <td>0.0</td>\n",
       "      <td>0.0</td>\n",
       "      <td>...</td>\n",
       "      <td>0.0</td>\n",
       "      <td>0.0</td>\n",
       "      <td>0.0</td>\n",
       "      <td>0.0</td>\n",
       "      <td>0.0</td>\n",
       "      <td>0.0</td>\n",
       "      <td>0.0</td>\n",
       "      <td>False</td>\n",
       "      <td>False</td>\n",
       "      <td>False</td>\n",
       "    </tr>\n",
       "    <tr>\n",
       "      <th>4</th>\n",
       "      <td>1235.0</td>\n",
       "      <td>2.0</td>\n",
       "      <td>2.0</td>\n",
       "      <td>148.0</td>\n",
       "      <td>2</td>\n",
       "      <td>1.0</td>\n",
       "      <td>0.0</td>\n",
       "      <td>0.0</td>\n",
       "      <td>0.0</td>\n",
       "      <td>0.0</td>\n",
       "      <td>...</td>\n",
       "      <td>0.0</td>\n",
       "      <td>0.0</td>\n",
       "      <td>0.0</td>\n",
       "      <td>0.0</td>\n",
       "      <td>0.0</td>\n",
       "      <td>0.0</td>\n",
       "      <td>0.0</td>\n",
       "      <td>False</td>\n",
       "      <td>False</td>\n",
       "      <td>True</td>\n",
       "    </tr>\n",
       "  </tbody>\n",
       "</table>\n",
       "<p>5 rows × 243 columns</p>\n",
       "</div>"
      ],
      "text/plain": [
       "   total_sqft  bath  balcony  price  bhk  1st Block Jayanagar  \\\n",
       "0      2850.0   4.0      1.0  428.0    4                  1.0   \n",
       "1      1630.0   3.0      2.0  194.0    3                  1.0   \n",
       "2      1875.0   2.0      3.0  235.0    3                  1.0   \n",
       "3      1200.0   2.0      0.0  130.0    3                  1.0   \n",
       "4      1235.0   2.0      2.0  148.0    2                  1.0   \n",
       "\n",
       "   1st Phase JP Nagar  2nd Phase Judicial Layout  2nd Stage Nagarbhavi  \\\n",
       "0                 0.0                        0.0                   0.0   \n",
       "1                 0.0                        0.0                   0.0   \n",
       "2                 0.0                        0.0                   0.0   \n",
       "3                 0.0                        0.0                   0.0   \n",
       "4                 0.0                        0.0                   0.0   \n",
       "\n",
       "   5th Phase JP Nagar  ...  Vittasandra  Whitefield  Yelachenahalli  \\\n",
       "0                 0.0  ...          0.0         0.0             0.0   \n",
       "1                 0.0  ...          0.0         0.0             0.0   \n",
       "2                 0.0  ...          0.0         0.0             0.0   \n",
       "3                 0.0  ...          0.0         0.0             0.0   \n",
       "4                 0.0  ...          0.0         0.0             0.0   \n",
       "\n",
       "   Yelahanka  Yelahanka New Town  Yelenahalli  Yeshwanthpur  \\\n",
       "0        0.0                 0.0          0.0           0.0   \n",
       "1        0.0                 0.0          0.0           0.0   \n",
       "2        0.0                 0.0          0.0           0.0   \n",
       "3        0.0                 0.0          0.0           0.0   \n",
       "4        0.0                 0.0          0.0           0.0   \n",
       "\n",
       "   area_type_Carpet  Area  area_type_Plot  Area  \\\n",
       "0                   False                 False   \n",
       "1                   False                 False   \n",
       "2                   False                 False   \n",
       "3                   False                 False   \n",
       "4                   False                 False   \n",
       "\n",
       "   area_type_Super built-up  Area  \n",
       "0                            True  \n",
       "1                            True  \n",
       "2                            True  \n",
       "3                           False  \n",
       "4                            True  \n",
       "\n",
       "[5 rows x 243 columns]"
      ]
     },
     "execution_count": 260,
     "metadata": {},
     "output_type": "execute_result"
    }
   ],
   "source": [
    "# performing one hot encoding for area_type \n",
    "area_type_encoded = pd.get_dummies(df.area_type , prefix = 'area_type' , drop_first = True) ##drops the first category to avoid the dummy variable trap(Multicollinearity)\n",
    "# Concatenate the original DataFrame with the one-hot encoded columns \n",
    "df = pd.concat([df , area_type_encoded] , axis = 'columns')\n",
    "df.drop('area_type' , axis = 1 , inplace = True)\n",
    "df.head()"
   ]
  },
  {
   "cell_type": "code",
   "execution_count": 261,
   "id": "6a63006e-e754-46e3-9860-e40a06dd772f",
   "metadata": {},
   "outputs": [
    {
     "name": "stdout",
     "output_type": "stream",
     "text": [
      "<class 'pandas.core.frame.DataFrame'>\n",
      "Index: 6947 entries, 0 to 9849\n",
      "Columns: 243 entries, total_sqft to area_type_Super built-up  Area\n",
      "dtypes: bool(3), float64(239), int64(1)\n",
      "memory usage: 12.8 MB\n"
     ]
    }
   ],
   "source": [
    "df.info()"
   ]
  },
  {
   "cell_type": "code",
   "execution_count": 262,
   "id": "6b60d734-335a-40a6-ae12-6ecedee3ac3c",
   "metadata": {},
   "outputs": [],
   "source": [
    "## Converting Boolean Columns to int \n",
    "df = df.astype({ col: 'int' for col in df.select_dtypes(include = 'bool').columns })"
   ]
  },
  {
   "cell_type": "markdown",
   "id": "b0408af3-3ba4-402a-8e47-53842bf36e75",
   "metadata": {},
   "source": [
    "### VIF ( Variance Inflation Factor )"
   ]
  },
  {
   "cell_type": "code",
   "execution_count": 263,
   "id": "cded1df5-2720-4f7f-a848-f6f1b461ae75",
   "metadata": {},
   "outputs": [
    {
     "name": "stdout",
     "output_type": "stream",
     "text": [
      "                            feature        VIF\n",
      "0                             const  23.666785\n",
      "1                        total_sqft   6.129481\n",
      "2                              bath   5.810025\n",
      "3                           balcony   1.329248\n",
      "4                             price   6.540839\n",
      "..                              ...        ...\n",
      "239                     Yelenahalli   1.010180\n",
      "240                    Yeshwanthpur   1.038542\n",
      "241          area_type_Carpet  Area   1.056646\n",
      "242            area_type_Plot  Area   1.587355\n",
      "243  area_type_Super built-up  Area   1.527774\n",
      "\n",
      "[244 rows x 2 columns]\n"
     ]
    }
   ],
   "source": [
    "import pandas as pd \n",
    "from statsmodels.stats.outliers_influence import variance_inflation_factor \n",
    "from statsmodels.tools import add_constant\n",
    "\n",
    "# Add a constant column for each feature \n",
    "x = add_constant(df)\n",
    "\n",
    "# Calculate VIF for each feature \n",
    "vif_data = pd.DataFrame()\n",
    "vif_data[\"feature\"] = x.columns\n",
    "vif_list = []\n",
    "for i in range(x.shape[1]):\n",
    "    vif_list.append(variance_inflation_factor(x.values,i))\n",
    "vif_data[\"VIF\"] = vif_list    \n",
    "print(vif_data)"
   ]
  },
  {
   "cell_type": "code",
   "execution_count": 264,
   "id": "46faa958-9368-4b97-b714-987ad74ab36d",
   "metadata": {},
   "outputs": [
    {
     "name": "stdout",
     "output_type": "stream",
     "text": [
      "      feature        VIF\n",
      "0       const  23.666785\n",
      "1  total_sqft   6.129481\n",
      "2        bath   5.810025\n",
      "4       price   6.540839\n",
      "5         bhk   5.519117\n"
     ]
    }
   ],
   "source": [
    "print(vif_data[vif_data[\"VIF\"] >= 5])"
   ]
  },
  {
   "cell_type": "markdown",
   "id": "ab75c496-834a-4c80-bb94-38202aee7f5a",
   "metadata": {},
   "source": [
    "### Model Fitting "
   ]
  },
  {
   "cell_type": "code",
   "execution_count": 273,
   "id": "f2920e5d-5a87-4d93-8be1-41404240b828",
   "metadata": {},
   "outputs": [
    {
     "data": {
      "text/plain": [
       "(6947, 243)"
      ]
     },
     "execution_count": 273,
     "metadata": {},
     "output_type": "execute_result"
    }
   ],
   "source": [
    "df.shape"
   ]
  },
  {
   "cell_type": "code",
   "execution_count": 274,
   "id": "c35520e8-0031-44f6-9846-e11672c8e871",
   "metadata": {},
   "outputs": [
    {
     "data": {
      "text/html": [
       "<div>\n",
       "<style scoped>\n",
       "    .dataframe tbody tr th:only-of-type {\n",
       "        vertical-align: middle;\n",
       "    }\n",
       "\n",
       "    .dataframe tbody tr th {\n",
       "        vertical-align: top;\n",
       "    }\n",
       "\n",
       "    .dataframe thead th {\n",
       "        text-align: right;\n",
       "    }\n",
       "</style>\n",
       "<table border=\"1\" class=\"dataframe\">\n",
       "  <thead>\n",
       "    <tr style=\"text-align: right;\">\n",
       "      <th></th>\n",
       "      <th>total_sqft</th>\n",
       "      <th>bath</th>\n",
       "      <th>balcony</th>\n",
       "      <th>bhk</th>\n",
       "      <th>1st Block Jayanagar</th>\n",
       "      <th>1st Phase JP Nagar</th>\n",
       "      <th>2nd Phase Judicial Layout</th>\n",
       "      <th>2nd Stage Nagarbhavi</th>\n",
       "      <th>5th Phase JP Nagar</th>\n",
       "      <th>6th Phase JP Nagar</th>\n",
       "      <th>...</th>\n",
       "      <th>Vittasandra</th>\n",
       "      <th>Whitefield</th>\n",
       "      <th>Yelachenahalli</th>\n",
       "      <th>Yelahanka</th>\n",
       "      <th>Yelahanka New Town</th>\n",
       "      <th>Yelenahalli</th>\n",
       "      <th>Yeshwanthpur</th>\n",
       "      <th>area_type_Carpet  Area</th>\n",
       "      <th>area_type_Plot  Area</th>\n",
       "      <th>area_type_Super built-up  Area</th>\n",
       "    </tr>\n",
       "  </thead>\n",
       "  <tbody>\n",
       "    <tr>\n",
       "      <th>0</th>\n",
       "      <td>2850.0</td>\n",
       "      <td>4.0</td>\n",
       "      <td>1.0</td>\n",
       "      <td>4</td>\n",
       "      <td>1.0</td>\n",
       "      <td>0.0</td>\n",
       "      <td>0.0</td>\n",
       "      <td>0.0</td>\n",
       "      <td>0.0</td>\n",
       "      <td>0.0</td>\n",
       "      <td>...</td>\n",
       "      <td>0.0</td>\n",
       "      <td>0.0</td>\n",
       "      <td>0.0</td>\n",
       "      <td>0.0</td>\n",
       "      <td>0.0</td>\n",
       "      <td>0.0</td>\n",
       "      <td>0.0</td>\n",
       "      <td>0</td>\n",
       "      <td>0</td>\n",
       "      <td>1</td>\n",
       "    </tr>\n",
       "    <tr>\n",
       "      <th>1</th>\n",
       "      <td>1630.0</td>\n",
       "      <td>3.0</td>\n",
       "      <td>2.0</td>\n",
       "      <td>3</td>\n",
       "      <td>1.0</td>\n",
       "      <td>0.0</td>\n",
       "      <td>0.0</td>\n",
       "      <td>0.0</td>\n",
       "      <td>0.0</td>\n",
       "      <td>0.0</td>\n",
       "      <td>...</td>\n",
       "      <td>0.0</td>\n",
       "      <td>0.0</td>\n",
       "      <td>0.0</td>\n",
       "      <td>0.0</td>\n",
       "      <td>0.0</td>\n",
       "      <td>0.0</td>\n",
       "      <td>0.0</td>\n",
       "      <td>0</td>\n",
       "      <td>0</td>\n",
       "      <td>1</td>\n",
       "    </tr>\n",
       "    <tr>\n",
       "      <th>2</th>\n",
       "      <td>1875.0</td>\n",
       "      <td>2.0</td>\n",
       "      <td>3.0</td>\n",
       "      <td>3</td>\n",
       "      <td>1.0</td>\n",
       "      <td>0.0</td>\n",
       "      <td>0.0</td>\n",
       "      <td>0.0</td>\n",
       "      <td>0.0</td>\n",
       "      <td>0.0</td>\n",
       "      <td>...</td>\n",
       "      <td>0.0</td>\n",
       "      <td>0.0</td>\n",
       "      <td>0.0</td>\n",
       "      <td>0.0</td>\n",
       "      <td>0.0</td>\n",
       "      <td>0.0</td>\n",
       "      <td>0.0</td>\n",
       "      <td>0</td>\n",
       "      <td>0</td>\n",
       "      <td>1</td>\n",
       "    </tr>\n",
       "  </tbody>\n",
       "</table>\n",
       "<p>3 rows × 242 columns</p>\n",
       "</div>"
      ],
      "text/plain": [
       "   total_sqft  bath  balcony  bhk  1st Block Jayanagar  1st Phase JP Nagar  \\\n",
       "0      2850.0   4.0      1.0    4                  1.0                 0.0   \n",
       "1      1630.0   3.0      2.0    3                  1.0                 0.0   \n",
       "2      1875.0   2.0      3.0    3                  1.0                 0.0   \n",
       "\n",
       "   2nd Phase Judicial Layout  2nd Stage Nagarbhavi  5th Phase JP Nagar  \\\n",
       "0                        0.0                   0.0                 0.0   \n",
       "1                        0.0                   0.0                 0.0   \n",
       "2                        0.0                   0.0                 0.0   \n",
       "\n",
       "   6th Phase JP Nagar  ...  Vittasandra  Whitefield  Yelachenahalli  \\\n",
       "0                 0.0  ...          0.0         0.0             0.0   \n",
       "1                 0.0  ...          0.0         0.0             0.0   \n",
       "2                 0.0  ...          0.0         0.0             0.0   \n",
       "\n",
       "   Yelahanka  Yelahanka New Town  Yelenahalli  Yeshwanthpur  \\\n",
       "0        0.0                 0.0          0.0           0.0   \n",
       "1        0.0                 0.0          0.0           0.0   \n",
       "2        0.0                 0.0          0.0           0.0   \n",
       "\n",
       "   area_type_Carpet  Area  area_type_Plot  Area  \\\n",
       "0                       0                     0   \n",
       "1                       0                     0   \n",
       "2                       0                     0   \n",
       "\n",
       "   area_type_Super built-up  Area  \n",
       "0                               1  \n",
       "1                               1  \n",
       "2                               1  \n",
       "\n",
       "[3 rows x 242 columns]"
      ]
     },
     "execution_count": 274,
     "metadata": {},
     "output_type": "execute_result"
    }
   ],
   "source": [
    "x = df.drop(['price'] , axis = 'columns')\n",
    "x.head(3)"
   ]
  },
  {
   "cell_type": "code",
   "execution_count": 275,
   "id": "0edc13e4-1b87-4097-a5ca-f7803120c483",
   "metadata": {},
   "outputs": [
    {
     "data": {
      "text/plain": [
       "0    428.0\n",
       "1    194.0\n",
       "2    235.0\n",
       "Name: price, dtype: float64"
      ]
     },
     "execution_count": 275,
     "metadata": {},
     "output_type": "execute_result"
    }
   ],
   "source": [
    "y = df.price \n",
    "y.head(3)"
   ]
  },
  {
   "cell_type": "markdown",
   "id": "3c7144c3-1643-43de-872b-f40da3f420bd",
   "metadata": {},
   "source": [
    "### Splitting "
   ]
  },
  {
   "cell_type": "code",
   "execution_count": 277,
   "id": "7a9745d9-ba6c-43c9-ad26-b38146df9cb3",
   "metadata": {},
   "outputs": [],
   "source": [
    "from sklearn.model_selection import train_test_split \n",
    "x_train , x_test , y_train , y_test = train_test_split( x , y , test_size = 0.2 , random_state = 10)"
   ]
  },
  {
   "cell_type": "code",
   "execution_count": 278,
   "id": "43553532-83b4-430d-864d-3c477cd671d3",
   "metadata": {},
   "outputs": [
    {
     "data": {
      "text/plain": [
       "0.8592947155170351"
      ]
     },
     "execution_count": 278,
     "metadata": {},
     "output_type": "execute_result"
    }
   ],
   "source": [
    "from sklearn.linear_model import LinearRegression \n",
    "linear_regressor = LinearRegression()\n",
    "linear_regressor.fit(x_train,y_train)\n",
    "linear_regressor.score(x_test , y_test) ## Returns the coefficient of Determination R^2 which measures how much variance in y is explained by the model "
   ]
  },
  {
   "cell_type": "markdown",
   "id": "780cccc4-105a-4f9e-9379-9fe5b87dd34b",
   "metadata": {},
   "source": [
    "### Adjusted R square \n"
   ]
  },
  {
   "cell_type": "code",
   "execution_count": 279,
   "id": "586fa620-0871-403c-aeb8-6e13da408a90",
   "metadata": {},
   "outputs": [
    {
     "name": "stdout",
     "output_type": "stream",
     "text": [
      "0.8296079859225473\n"
     ]
    }
   ],
   "source": [
    "n = x_test.shape[0] # number of observations \n",
    "p = x_test.shape[1] # number of predictors \n",
    "r2 = linear_regressor.score(x_test , y_test)\n",
    "adjusted_r2 = 1 - (1 - r2)*(n - 1)/(n - p - 1)\n",
    "print(adjusted_r2)"
   ]
  },
  {
   "cell_type": "markdown",
   "id": "f851c64b-d607-4c85-b5c4-95dd1bd71974",
   "metadata": {},
   "source": [
    "### Using K fold cross validation to measure accuracy of our Linear Regression Model "
   ]
  },
  {
   "cell_type": "markdown",
   "id": "eb8ac58c-ea7b-4be1-a70b-c0eaed1bbd3d",
   "metadata": {},
   "source": [
    "#### Cross validation is necessary because model's performance can be underestimated or overestimated on the basis of test set "
   ]
  },
  {
   "cell_type": "code",
   "execution_count": 145,
   "id": "2bf08717-82b3-4517-8bb7-1d8bdc7c3cbe",
   "metadata": {},
   "outputs": [
    {
     "data": {
      "text/plain": [
       "array([0.86787247, 0.85555018, 0.83702514, 0.87807216, 0.79039852])"
      ]
     },
     "execution_count": 145,
     "metadata": {},
     "output_type": "execute_result"
    }
   ],
   "source": [
    "from sklearn.model_selection import ShuffleSplit \n",
    "from sklearn.model_selection import cross_val_score\n",
    "cv = ShuffleSplit( n_splits = 5 , test_size = 0.2 , random_state = 0 ) \n",
    "cross_val_score(LinearRegression() , x , y , cv = cv ) "
   ]
  },
  {
   "cell_type": "code",
   "execution_count": 280,
   "id": "9698bcc3-52a9-45ff-9c47-4d351bbf6117",
   "metadata": {},
   "outputs": [
    {
     "data": {
      "text/plain": [
       "0.845783694"
      ]
     },
     "execution_count": 280,
     "metadata": {},
     "output_type": "execute_result"
    }
   ],
   "source": [
    "cross_r2 = np.array([0.86787247, 0.85555018, 0.83702514, 0.87807216, 0.79039852])\n",
    "np.mean(cross_r2)"
   ]
  },
  {
   "cell_type": "markdown",
   "id": "41081467-f5e6-439b-9770-b39b0a2f74c1",
   "metadata": {},
   "source": [
    "### GridSearchCV For Linear Regression and Lasso Regression "
   ]
  },
  {
   "cell_type": "code",
   "execution_count": 326,
   "id": "73057266-5ce0-4c42-b557-445a28e85768",
   "metadata": {},
   "outputs": [
    {
     "name": "stdout",
     "output_type": "stream",
     "text": [
      "               model  best_score                            best_params  \\\n",
      "0  linear_regression    0.845784                                     {}   \n",
      "1              lasso    0.793494  {'alpha': 0.1, 'selection': 'cyclic'}   \n",
      "2              ridge    0.845870                         {'alpha': 0.1}   \n",
      "\n",
      "   adjusted_r2       rmse  \n",
      "0     0.841596  30.853355  \n",
      "1     0.791134  35.428456  \n",
      "2     0.841576  30.855219  \n"
     ]
    }
   ],
   "source": [
    "from sklearn.model_selection import GridSearchCV , ShuffleSplit \n",
    "from sklearn.linear_model import LinearRegression , Lasso , Ridge \n",
    "from sklearn.preprocessing import StandardScaler \n",
    "from sklearn.pipeline import Pipeline \n",
    "from sklearn.metrics import make_scorer , mean_squared_error , r2_score \n",
    "import numpy as np \n",
    "import pandas as pd \n",
    "\n",
    "def adjusted_r2_score( y_true , Y_pred , X ): \n",
    "    ##calculating the adjusted R^2 score\n",
    "    r2 = r2_score(y_true , Y_pred)\n",
    "    n = x.shape[0]\n",
    "    p = x.shape[1]\n",
    "    return 1 - (1 - r2)*( n - 1)/(n - p - 1)\n",
    "\n",
    "def rmse_score(y_true , Y_pred):\n",
    "    return np.sqrt(mean_squared_error(y_true , Y_pred))\n",
    "\n",
    "def find_best_model_using_gridsearchcv(x,y):\n",
    "    # Defining models and their hyperparameters \n",
    "    algorithms = {\n",
    "        'linear_regression': {\n",
    "            'model' : Pipeline([\n",
    "                ('scaler' , StandardScaler()),\n",
    "                ('regressor' , LinearRegression())\n",
    "            ]) , \n",
    "            'params' : {\n",
    "            }\n",
    "        },\n",
    "        'lasso' : {\n",
    "        'model' : Lasso(),\n",
    "        'params' : {\n",
    "            'alpha' : [0.1,0.5,1,2,5,10],\n",
    "            'selection' : ['random' , 'cyclic']\n",
    "        }\n",
    "        },\n",
    "        'ridge' : {\n",
    "        'model' : Ridge(),\n",
    "        'params' : {\n",
    "            'alpha' : [0.1,0.5,1,2,5,10]\n",
    "        }\n",
    "        }\n",
    "                   }  \n",
    "    results = []\n",
    "    cv = ShuffleSplit(n_splits = 5 , test_size = 0.2 , random_state = 0)\n",
    "\n",
    "    for algo_name , config in algorithms.items():\n",
    "           gs = GridSearchCV(config['model'] , config['params'] , cv = cv , return_train_score = False )\n",
    "           gs.fit(x,y)\n",
    "\n",
    "           ## Predict using the best estimator \n",
    "           y_pred = gs.predict(x)\n",
    "\n",
    "        ## Calculate adjusted R^2 and RMSE \n",
    "           adj_r2 = adjusted_r2_score(y,y_pred,x)\n",
    "           rmse = rmse_score(y , y_pred)\n",
    "\n",
    "           results.append({\n",
    "              'model' : algo_name , \n",
    "              'best_score' : gs.best_score_,\n",
    "              'best_params' : gs.best_params_,\n",
    "              'adjusted_r2' : adj_r2 , \n",
    "              'rmse' : rmse\n",
    "            })\n",
    "\n",
    "    return pd.DataFrame(results , columns = ['model' , 'best_score' , 'best_params' , 'adjusted_r2' , 'rmse'])\n",
    "\n",
    "# Example Usage \n",
    "best_model_results = find_best_model_using_gridsearchcv(x,y)\n",
    "print(best_model_results)\n",
    "    "
   ]
  },
  {
   "cell_type": "code",
   "execution_count": 282,
   "id": "78292a35-136b-4d47-8d22-045b915e5d5e",
   "metadata": {},
   "outputs": [
    {
     "data": {
      "text/html": [
       "<div>\n",
       "<style scoped>\n",
       "    .dataframe tbody tr th:only-of-type {\n",
       "        vertical-align: middle;\n",
       "    }\n",
       "\n",
       "    .dataframe tbody tr th {\n",
       "        vertical-align: top;\n",
       "    }\n",
       "\n",
       "    .dataframe thead th {\n",
       "        text-align: right;\n",
       "    }\n",
       "</style>\n",
       "<table border=\"1\" class=\"dataframe\">\n",
       "  <thead>\n",
       "    <tr style=\"text-align: right;\">\n",
       "      <th></th>\n",
       "      <th>Test</th>\n",
       "      <th>Prediction</th>\n",
       "    </tr>\n",
       "  </thead>\n",
       "  <tbody>\n",
       "    <tr>\n",
       "      <th>7600</th>\n",
       "      <td>36.85</td>\n",
       "      <td>40.358422</td>\n",
       "    </tr>\n",
       "    <tr>\n",
       "      <th>9359</th>\n",
       "      <td>325.00</td>\n",
       "      <td>233.447488</td>\n",
       "    </tr>\n",
       "    <tr>\n",
       "      <th>795</th>\n",
       "      <td>66.00</td>\n",
       "      <td>61.266996</td>\n",
       "    </tr>\n",
       "    <tr>\n",
       "      <th>2522</th>\n",
       "      <td>44.00</td>\n",
       "      <td>39.623644</td>\n",
       "    </tr>\n",
       "    <tr>\n",
       "      <th>949</th>\n",
       "      <td>62.00</td>\n",
       "      <td>33.811476</td>\n",
       "    </tr>\n",
       "    <tr>\n",
       "      <th>1824</th>\n",
       "      <td>71.00</td>\n",
       "      <td>77.030371</td>\n",
       "    </tr>\n",
       "    <tr>\n",
       "      <th>9658</th>\n",
       "      <td>120.00</td>\n",
       "      <td>98.162783</td>\n",
       "    </tr>\n",
       "    <tr>\n",
       "      <th>703</th>\n",
       "      <td>41.13</td>\n",
       "      <td>62.290833</td>\n",
       "    </tr>\n",
       "    <tr>\n",
       "      <th>77</th>\n",
       "      <td>88.00</td>\n",
       "      <td>90.358647</td>\n",
       "    </tr>\n",
       "    <tr>\n",
       "      <th>3016</th>\n",
       "      <td>110.00</td>\n",
       "      <td>127.076511</td>\n",
       "    </tr>\n",
       "  </tbody>\n",
       "</table>\n",
       "</div>"
      ],
      "text/plain": [
       "        Test  Prediction\n",
       "7600   36.85   40.358422\n",
       "9359  325.00  233.447488\n",
       "795    66.00   61.266996\n",
       "2522   44.00   39.623644\n",
       "949    62.00   33.811476\n",
       "1824   71.00   77.030371\n",
       "9658  120.00   98.162783\n",
       "703    41.13   62.290833\n",
       "77     88.00   90.358647\n",
       "3016  110.00  127.076511"
      ]
     },
     "execution_count": 282,
     "metadata": {},
     "output_type": "execute_result"
    }
   ],
   "source": [
    "##linear_regressor\n",
    "y_predict = linear_regressor.predict(x_test)\n",
    "pd.DataFrame({'Test' : y_test , 'Prediction' : y_predict}).head(10)"
   ]
  },
  {
   "cell_type": "markdown",
   "id": "f62f7072-0d80-4750-b9f0-3a2a75a0fb0c",
   "metadata": {},
   "source": [
    "### Evaluation of the Model "
   ]
  },
  {
   "cell_type": "code",
   "execution_count": 283,
   "id": "f54edf8e-a45a-4302-9224-d32a89c08db3",
   "metadata": {},
   "outputs": [
    {
     "data": {
      "text/html": [
       "<div>\n",
       "<style scoped>\n",
       "    .dataframe tbody tr th:only-of-type {\n",
       "        vertical-align: middle;\n",
       "    }\n",
       "\n",
       "    .dataframe tbody tr th {\n",
       "        vertical-align: top;\n",
       "    }\n",
       "\n",
       "    .dataframe thead th {\n",
       "        text-align: right;\n",
       "    }\n",
       "</style>\n",
       "<table border=\"1\" class=\"dataframe\">\n",
       "  <thead>\n",
       "    <tr style=\"text-align: right;\">\n",
       "      <th></th>\n",
       "      <th>Metrics</th>\n",
       "    </tr>\n",
       "  </thead>\n",
       "  <tbody>\n",
       "    <tr>\n",
       "      <th>MAE</th>\n",
       "      <td>15.728459</td>\n",
       "    </tr>\n",
       "    <tr>\n",
       "      <th>MSE</th>\n",
       "      <td>723.124933</td>\n",
       "    </tr>\n",
       "    <tr>\n",
       "      <th>RMSE</th>\n",
       "      <td>26.890982</td>\n",
       "    </tr>\n",
       "  </tbody>\n",
       "</table>\n",
       "</div>"
      ],
      "text/plain": [
       "         Metrics\n",
       "MAE    15.728459\n",
       "MSE   723.124933\n",
       "RMSE   26.890982"
      ]
     },
     "execution_count": 283,
     "metadata": {},
     "output_type": "execute_result"
    }
   ],
   "source": [
    "from sklearn import metrics \n",
    "MAE = metrics.mean_absolute_error(y_predict , y_test)\n",
    "MSE = metrics.mean_squared_error(y_predict , y_test)\n",
    "RMSE = np.sqrt(MSE)\n",
    "\n",
    "pd.DataFrame([MAE , MSE , RMSE] , index = ['MAE' , 'MSE' , 'RMSE'] , columns = ['Metrics'])"
   ]
  },
  {
   "cell_type": "code",
   "execution_count": 290,
   "id": "1ea96ba3-5645-4f1c-8920-1167452406d2",
   "metadata": {},
   "outputs": [
    {
     "data": {
      "image/png": "[encoded data removed]",
      "text/plain": [
       "<Figure size 1200x600 with 2 Axes>"
      ]
     },
     "metadata": {},
     "output_type": "display_data"
    },
    {
     "name": "stdout",
     "output_type": "stream",
     "text": [
      "Durbin-watson statistic : 1.97\n",
      "Breusch - Pagan test results:\n",
      "             Test Statistic         Value\n",
      "0  Lagrange Multiplier Stat  4.538942e+02\n",
      "1                   p-value  4.426636e-15\n",
      "2                   f-value  2.576449e+00\n",
      "3                 f p-value  3.125902e-24\n"
     ]
    },
    {
     "data": {
      "image/png": "[encoded data removed]",
      "text/plain": [
       "<Figure size 600x600 with 1 Axes>"
      ]
     },
     "metadata": {},
     "output_type": "display_data"
    },
    {
     "name": "stdout",
     "output_type": "stream",
     "text": [
      "Shapiro_Wilk test: Statistic=0.803 , p-value = 0.000\n"
     ]
    }
   ],
   "source": [
    "import numpy as np \n",
    "import pandas as pd \n",
    "import matplotlib.pyplot as plt\n",
    "import seaborn as sns \n",
    "from statsmodels.stats.stattools import durbin_watson \n",
    "from statsmodels.stats.diagnostic import het_breuschpagan \n",
    "from statsmodels.compat import lzip \n",
    "import scipy.stats as stats \n",
    "\n",
    "## Assuming y_test and y_pred are available \n",
    "residuals = y_test - y_predict \n",
    "\n",
    "## Linearity and Homoscedasticity \n",
    "plt.figure(figsize = (12,6))\n",
    "\n",
    "## Residuals and Fitted Values \n",
    "plt.subplot(1,2,1)\n",
    "plt.scatter(y_predict , residuals , alpha = 0.5)\n",
    "plt.axhline( y = 0 , color = 'r' , linestyle = '--' ) \n",
    "plt.xlabel('Fitted Values')\n",
    "plt.ylabel('Residuals')\n",
    "plt.title('Residuals vs Fitted Values')\n",
    "\n",
    "## Residuals Histogram \n",
    "plt.subplot(1,2,2)\n",
    "sns.histplot( residuals , kde = True)  \n",
    "plt.xlabel('Residuals')\n",
    "plt.title('Histogram of Residuals')\n",
    "plt.tight_layout()\n",
    "plt.show()\n",
    "\n",
    "## Autocorrelation \n",
    "dw_stat = durbin_watson(residuals)\n",
    "print(f'Durbin-watson statistic : {dw_stat:.2f}')\n",
    "\n",
    "## Breusch - Pagan Test for Homoscedasticity \n",
    "# Fit the model to get residuals \n",
    "import statsmodels.api as sm \n",
    "x_with_const = sm.add_constant(x_test) # Add constant for intercept \n",
    "model = sm.OLS(y_test , x_with_const).fit()\n",
    "bp_test = het_breuschpagan(model.resid , model.model.exog)\n",
    "bp_test_labels = ['Lagrange Multiplier Stat' , 'p-value' , 'f-value' , 'f p-value']\n",
    "print('Breusch - Pagan test results:')\n",
    "print(pd.DataFrame(lzip(bp_test_labels,bp_test) , columns = ['Test Statistic' , 'Value']))\n",
    "\n",
    "## 4. Normality of Residuals \n",
    "## Q-Q Plot \n",
    "plt.figure(figsize = (6,6))\n",
    "stats.probplot(residuals , dist = \"norm\" , plot = plt)\n",
    "plt.title('Q-Q plot of residuals')\n",
    "plt.show()\n",
    "\n",
    "# shapiro-Wilk Test \n",
    "shapiro_test = stats.shapiro(residuals)\n",
    "print(f'Shapiro_Wilk test: Statistic={shapiro_test.statistic:.3f} , p-value = {shapiro_test.pvalue:.3f}')"
   ]
  },
  {
   "cell_type": "code",
   "execution_count": 292,
   "id": "d9af8988-b2ef-4857-9f89-bf147e58447c",
   "metadata": {},
   "outputs": [
    {
     "data": {
      "image/png": "[encoded data removed]",
      "text/plain": [
       "<Figure size 640x480 with 1 Axes>"
      ]
     },
     "metadata": {},
     "output_type": "display_data"
    }
   ],
   "source": [
    "sns.boxplot(residuals)\n",
    "plt.show()"
   ]
  },
  {
   "cell_type": "markdown",
   "id": "ab353d8c-c909-42dd-9f03-2a34217043a8",
   "metadata": {},
   "source": [
    "### Cooks Distance "
   ]
  },
  {
   "cell_type": "code",
   "execution_count": 293,
   "id": "6d9d4220-0804-4b0b-94bc-8f7993f6fb03",
   "metadata": {},
   "outputs": [
    {
     "name": "stdout",
     "output_type": "stream",
     "text": [
      "Cook's distance for each point:\n",
      "0       5.579614e-03\n",
      "1       1.990453e-03\n",
      "2       6.405243e-04\n",
      "3       4.602423e-03\n",
      "4       3.219777e-03\n",
      "            ...     \n",
      "9842    3.386722e-06\n",
      "9844    8.509530e-05\n",
      "9845    3.809910e-05\n",
      "9848    1.517805e-07\n",
      "9849    2.574114e-05\n",
      "Length: 6947, dtype: float64\n",
      "\n",
      "Influential points (indices):\n"
     ]
    },
    {
     "data": {
      "text/plain": [
       "array([   0,    1,    2,    3,    4,    5,    6,    9,   31,   50,   60,\n",
       "         62,  194,  223,  231,  235,  396,  403,  409,  475,  478,  482,\n",
       "        483,  485,  486,  492,  494,  496,  610,  612,  613,  614,  615,\n",
       "        616,  618,  619,  620,  622,  626,  635,  651,  652,  653,  654,\n",
       "        655,  656,  657,  658,  659,  660,  675,  676,  785,  790,  812,\n",
       "        923,  924,  925,  926, 1010, 1018, 1162, 1163, 1164, 1166, 1170,\n",
       "       1237, 1266, 1267, 1268, 1273, 1275, 1278, 1280, 1306, 1315, 1317,\n",
       "       1318, 1319, 1321, 1328, 1329, 1330, 1331, 1333, 1334, 1336, 1337,\n",
       "       1360, 1452, 1455, 1466, 1787, 1796, 1798, 1825, 1826, 1828, 1830,\n",
       "       1867, 1934, 1938, 1942, 2242, 2254, 2484, 2597, 2598, 2601, 2603,\n",
       "       2606, 2609, 2637, 2677, 2684, 2689, 2693, 2694, 2698, 2718, 2719,\n",
       "       2722, 2723, 2727, 2729, 2730, 2733, 2735, 2736, 2737, 2739, 2740,\n",
       "       2871, 2873, 2875, 2909, 2916, 2941, 2954, 3086, 3087, 3088, 3225,\n",
       "       3235, 3238, 3367, 3417, 3424, 3435, 3436, 3456, 3461, 3462, 3464,\n",
       "       3468, 3481, 3491, 3496, 3516, 3611, 3612, 3614, 3615, 3665, 3666,\n",
       "       3667, 3712, 3747, 3748, 3774, 3775, 3777, 3780, 3781, 3786, 3787,\n",
       "       3790, 3791, 3792, 3793, 3797, 3798, 3804, 3805, 3806, 3935, 3936,\n",
       "       3940, 3960, 4020, 4028, 4046, 4105, 4142, 4232, 4236, 4238, 4239,\n",
       "       4404, 4410, 4412, 4414, 4420, 4422, 4423, 4429, 4430, 4431, 4439,\n",
       "       4440, 4445, 4451, 4512, 4566, 4599, 4610, 4612, 4613, 4614, 4854,\n",
       "       4889, 4901, 4938, 4978, 4982, 4991, 5048, 5164, 5179, 5183, 5184,\n",
       "       5208, 5236, 5433, 5438, 5439, 5440, 5481, 5947, 6059, 6067, 6241,\n",
       "       6442, 6496, 6670, 6686, 6805], dtype=int64)"
      ]
     },
     "execution_count": 293,
     "metadata": {},
     "output_type": "execute_result"
    }
   ],
   "source": [
    "from statsmodels.stats.outliers_influence import OLSInfluence \n",
    "import statsmodels.api as sm \n",
    "\n",
    "## Add constant to the feature matrix \n",
    "x_with_constant = sm.add_constant(x)\n",
    "\n",
    "## Fit the model using statsmodels \n",
    "model = sm.OLS(y , x_with_constant).fit()\n",
    "\n",
    "## Calculate Cooks Distance \n",
    "influence = OLSInfluence(model)\n",
    "cooks_d = influence.cooks_distance[0]\n",
    "\n",
    "## Identify Influential points eg. cooks distance > 4/n\n",
    "n = x.shape[0]\n",
    "influential_points = np.where(cooks_d > 4/n )[0]\n",
    "\n",
    "## Print Cooks distance for each point and influential points\n",
    "print(\"Cook's distance for each point:\")\n",
    "print(cooks_d)\n",
    "\n",
    "print('\\nInfluential points (indices):')\n",
    "influential_points"
   ]
  },
  {
   "cell_type": "code",
   "execution_count": 336,
   "id": "958a1685-d4b3-4731-b650-50e4e9fcdade",
   "metadata": {},
   "outputs": [
    {
     "name": "stdout",
     "output_type": "stream",
     "text": [
      "               model  best_score                            best_params  \\\n",
      "0  linear_regression    0.895919                                     {}   \n",
      "1              lasso    0.826338  {'alpha': 0.1, 'selection': 'cyclic'}   \n",
      "2              ridge    0.896123                         {'alpha': 0.1}   \n",
      "\n",
      "   adjusted_r2       rmse  \n",
      "0     0.898246  19.808566  \n",
      "1     0.822908  26.132218  \n",
      "2     0.898182  19.814734  \n"
     ]
    }
   ],
   "source": [
    "## Removing influential points \n",
    "mask = np.ones(x.shape[0] , dtype = bool)\n",
    "mask[influential_points] = False \n",
    "x_clean = x[mask]\n",
    "y_clean = y[mask]\n",
    "x_clean_with_const = sm.add_constant(x_clean)\n",
    "##  Re run the model on the cleaned data \n",
    "cleaned_model_results = find_best_model_using_gridsearchcv(x_clean_with_const , y_clean)\n",
    "print(cleaned_model_results)"
   ]
  },
  {
   "cell_type": "code",
   "execution_count": 330,
   "id": "2809c0a7-a146-4828-9856-446f59539a6e",
   "metadata": {},
   "outputs": [
    {
     "name": "stdout",
     "output_type": "stream",
     "text": [
      "      total_sqft  bath  balcony  bhk  1st Block Jayanagar  1st Phase JP Nagar  \\\n",
      "8         1875.0   3.0      1.0    3                  0.0                 1.0   \n",
      "9         2065.0   4.0      1.0    3                  0.0                 1.0   \n",
      "11        1394.0   2.0      1.0    2                  0.0                 1.0   \n",
      "12        1077.0   2.0      2.0    2                  0.0                 1.0   \n",
      "13        1566.0   2.0      0.0    2                  0.0                 1.0   \n",
      "...          ...   ...      ...  ...                  ...                 ...   \n",
      "9842      1155.0   2.0      1.0    2                  0.0                 0.0   \n",
      "9844      1200.0   2.0      3.0    2                  0.0                 0.0   \n",
      "9845      1800.0   1.0      1.0    1                  0.0                 0.0   \n",
      "9848      1353.0   2.0      2.0    2                  0.0                 0.0   \n",
      "9849       812.0   1.0      0.0    1                  0.0                 0.0   \n",
      "\n",
      "      2nd Phase Judicial Layout  2nd Stage Nagarbhavi  5th Phase JP Nagar  \\\n",
      "8                           0.0                   0.0                 0.0   \n",
      "9                           0.0                   0.0                 0.0   \n",
      "11                          0.0                   0.0                 0.0   \n",
      "12                          0.0                   0.0                 0.0   \n",
      "13                          0.0                   0.0                 0.0   \n",
      "...                         ...                   ...                 ...   \n",
      "9842                        0.0                   0.0                 0.0   \n",
      "9844                        0.0                   0.0                 0.0   \n",
      "9845                        0.0                   0.0                 0.0   \n",
      "9848                        0.0                   0.0                 0.0   \n",
      "9849                        0.0                   0.0                 0.0   \n",
      "\n",
      "      6th Phase JP Nagar  ...  Vittasandra  Whitefield  Yelachenahalli  \\\n",
      "8                    0.0  ...          0.0         0.0             0.0   \n",
      "9                    0.0  ...          0.0         0.0             0.0   \n",
      "11                   0.0  ...          0.0         0.0             0.0   \n",
      "12                   0.0  ...          0.0         0.0             0.0   \n",
      "13                   0.0  ...          0.0         0.0             0.0   \n",
      "...                  ...  ...          ...         ...             ...   \n",
      "9842                 0.0  ...          0.0         0.0             0.0   \n",
      "9844                 0.0  ...          0.0         0.0             0.0   \n",
      "9845                 0.0  ...          0.0         0.0             0.0   \n",
      "9848                 0.0  ...          0.0         0.0             0.0   \n",
      "9849                 0.0  ...          0.0         0.0             0.0   \n",
      "\n",
      "      Yelahanka  Yelahanka New Town  Yelenahalli  Yeshwanthpur  \\\n",
      "8           0.0                 0.0          0.0           0.0   \n",
      "9           0.0                 0.0          0.0           0.0   \n",
      "11          0.0                 0.0          0.0           0.0   \n",
      "12          0.0                 0.0          0.0           0.0   \n",
      "13          0.0                 0.0          0.0           0.0   \n",
      "...         ...                 ...          ...           ...   \n",
      "9842        0.0                 0.0          0.0           0.0   \n",
      "9844        0.0                 0.0          0.0           0.0   \n",
      "9845        0.0                 0.0          0.0           0.0   \n",
      "9848        0.0                 0.0          0.0           0.0   \n",
      "9849        0.0                 0.0          0.0           0.0   \n",
      "\n",
      "      area_type_Carpet  Area  area_type_Plot  Area  \\\n",
      "8                          0                     0   \n",
      "9                          0                     0   \n",
      "11                         0                     0   \n",
      "12                         0                     0   \n",
      "13                         0                     1   \n",
      "...                      ...                   ...   \n",
      "9842                       0                     0   \n",
      "9844                       1                     0   \n",
      "9845                       0                     0   \n",
      "9848                       0                     0   \n",
      "9849                       0                     1   \n",
      "\n",
      "      area_type_Super built-up  Area  \n",
      "8                                  1  \n",
      "9                                  1  \n",
      "11                                 1  \n",
      "12                                 1  \n",
      "13                                 0  \n",
      "...                              ...  \n",
      "9842                               1  \n",
      "9844                               0  \n",
      "9845                               1  \n",
      "9848                               1  \n",
      "9849                               0  \n",
      "\n",
      "[6700 rows x 242 columns]\n"
     ]
    }
   ],
   "source": [
    "print(x_clean)"
   ]
  },
  {
   "cell_type": "code",
   "execution_count": 331,
   "id": "a47bf34d-0b8e-40ef-86fb-06389c9b1bf3",
   "metadata": {},
   "outputs": [
    {
     "name": "stdout",
     "output_type": "stream",
     "text": [
      "8       167.0\n",
      "9       210.0\n",
      "11      100.0\n",
      "12       93.0\n",
      "13      180.0\n",
      "        ...  \n",
      "9842     64.0\n",
      "9844     70.0\n",
      "9845    200.0\n",
      "9848    110.0\n",
      "9849     26.0\n",
      "Name: price, Length: 6700, dtype: float64\n"
     ]
    }
   ],
   "source": [
    "print(y_clean)"
   ]
  },
  {
   "cell_type": "code",
   "execution_count": 337,
   "id": "aa10a689-fe4a-4d73-87ef-620745cb5545",
   "metadata": {},
   "outputs": [
    {
     "data": {
      "text/html": [
       "<div>\n",
       "<style scoped>\n",
       "    .dataframe tbody tr th:only-of-type {\n",
       "        vertical-align: middle;\n",
       "    }\n",
       "\n",
       "    .dataframe tbody tr th {\n",
       "        vertical-align: top;\n",
       "    }\n",
       "\n",
       "    .dataframe thead th {\n",
       "        text-align: right;\n",
       "    }\n",
       "</style>\n",
       "<table border=\"1\" class=\"dataframe\">\n",
       "  <thead>\n",
       "    <tr style=\"text-align: right;\">\n",
       "      <th></th>\n",
       "      <th>Metric</th>\n",
       "      <th>Linear Regression Before</th>\n",
       "      <th>Lasso Before</th>\n",
       "      <th>Ridge Before</th>\n",
       "      <th>Linear Regression After</th>\n",
       "      <th>Lasso After</th>\n",
       "      <th>Ridge After</th>\n",
       "    </tr>\n",
       "  </thead>\n",
       "  <tbody>\n",
       "    <tr>\n",
       "      <th>0</th>\n",
       "      <td>Model</td>\n",
       "      <td>linear_regression</td>\n",
       "      <td>lasso</td>\n",
       "      <td>ridge</td>\n",
       "      <td>linear_regression</td>\n",
       "      <td>lasso</td>\n",
       "      <td>ridge</td>\n",
       "    </tr>\n",
       "    <tr>\n",
       "      <th>1</th>\n",
       "      <td>Best Score</td>\n",
       "      <td>0.845784</td>\n",
       "      <td>0.793494</td>\n",
       "      <td>0.84587</td>\n",
       "      <td>0.895919</td>\n",
       "      <td>0.826338</td>\n",
       "      <td>0.896123</td>\n",
       "    </tr>\n",
       "    <tr>\n",
       "      <th>2</th>\n",
       "      <td>Best Params</td>\n",
       "      <td>{}</td>\n",
       "      <td>{'alpha': 0.1, 'selection': 'cyclic'}</td>\n",
       "      <td>{'alpha': 0.1}</td>\n",
       "      <td>{}</td>\n",
       "      <td>{'alpha': 0.1, 'selection': 'cyclic'}</td>\n",
       "      <td>{'alpha': 0.1}</td>\n",
       "    </tr>\n",
       "    <tr>\n",
       "      <th>3</th>\n",
       "      <td>Adjusted R^2</td>\n",
       "      <td>0.841596</td>\n",
       "      <td>0.791134</td>\n",
       "      <td>0.841576</td>\n",
       "      <td>0.898246</td>\n",
       "      <td>0.822908</td>\n",
       "      <td>0.898182</td>\n",
       "    </tr>\n",
       "    <tr>\n",
       "      <th>4</th>\n",
       "      <td>RMSE</td>\n",
       "      <td>30.853355</td>\n",
       "      <td>35.428456</td>\n",
       "      <td>30.855219</td>\n",
       "      <td>19.808566</td>\n",
       "      <td>26.132218</td>\n",
       "      <td>19.814734</td>\n",
       "    </tr>\n",
       "  </tbody>\n",
       "</table>\n",
       "</div>"
      ],
      "text/plain": [
       "         Metric Linear Regression Before  \\\n",
       "0         Model        linear_regression   \n",
       "1    Best Score                 0.845784   \n",
       "2   Best Params                       {}   \n",
       "3  Adjusted R^2                 0.841596   \n",
       "4          RMSE                30.853355   \n",
       "\n",
       "                            Lasso Before    Ridge Before  \\\n",
       "0                                  lasso           ridge   \n",
       "1                               0.793494         0.84587   \n",
       "2  {'alpha': 0.1, 'selection': 'cyclic'}  {'alpha': 0.1}   \n",
       "3                               0.791134        0.841576   \n",
       "4                              35.428456       30.855219   \n",
       "\n",
       "  Linear Regression After                            Lasso After  \\\n",
       "0       linear_regression                                  lasso   \n",
       "1                0.895919                               0.826338   \n",
       "2                      {}  {'alpha': 0.1, 'selection': 'cyclic'}   \n",
       "3                0.898246                               0.822908   \n",
       "4               19.808566                              26.132218   \n",
       "\n",
       "      Ridge After  \n",
       "0           ridge  \n",
       "1        0.896123  \n",
       "2  {'alpha': 0.1}  \n",
       "3        0.898182  \n",
       "4       19.814734  "
      ]
     },
     "execution_count": 337,
     "metadata": {},
     "output_type": "execute_result"
    }
   ],
   "source": [
    "# Create a DataFrame to compare results\n",
    "comparison_df = pd.DataFrame({\n",
    "    'Metric': ['Model', 'Best Score', 'Best Params', 'Adjusted R^2', 'RMSE'],\n",
    "    'Linear Regression Before': [\n",
    "        best_model_results.loc[best_model_results['model'] == 'linear_regression', 'model'].values[0],\n",
    "        best_model_results.loc[best_model_results['model'] == 'linear_regression', 'best_score'].values[0],\n",
    "        best_model_results.loc[best_model_results['model'] == 'linear_regression', 'best_params'].values[0],\n",
    "        best_model_results.loc[best_model_results['model'] == 'linear_regression', 'adjusted_r2'].values[0],\n",
    "        best_model_results.loc[best_model_results['model'] == 'linear_regression', 'rmse'].values[0]\n",
    "    ],\n",
    "    'Lasso Before': [\n",
    "        best_model_results.loc[best_model_results['model'] == 'lasso', 'model'].values[0],\n",
    "        best_model_results.loc[best_model_results['model'] == 'lasso', 'best_score'].values[0],\n",
    "        best_model_results.loc[best_model_results['model'] == 'lasso', 'best_params'].values[0],\n",
    "        best_model_results.loc[best_model_results['model'] == 'lasso', 'adjusted_r2'].values[0],\n",
    "        best_model_results.loc[best_model_results['model'] == 'lasso', 'rmse'].values[0]\n",
    "    ],\n",
    "    'Ridge Before': [\n",
    "        best_model_results.loc[best_model_results['model'] == 'ridge', 'model'].values[0],\n",
    "        best_model_results.loc[best_model_results['model'] == 'ridge', 'best_score'].values[0],\n",
    "        best_model_results.loc[best_model_results['model'] == 'ridge', 'best_params'].values[0],\n",
    "        best_model_results.loc[best_model_results['model'] == 'ridge', 'adjusted_r2'].values[0],\n",
    "        best_model_results.loc[best_model_results['model'] == 'ridge', 'rmse'].values[0]\n",
    "    ],\n",
    "    'Linear Regression After': [\n",
    "        cleaned_model_results.loc[cleaned_model_results['model'] == 'linear_regression', 'model'].values[0],\n",
    "        cleaned_model_results.loc[cleaned_model_results['model'] == 'linear_regression', 'best_score'].values[0],\n",
    "        cleaned_model_results.loc[cleaned_model_results['model'] == 'linear_regression', 'best_params'].values[0],\n",
    "        cleaned_model_results.loc[cleaned_model_results['model'] == 'linear_regression', 'adjusted_r2'].values[0],\n",
    "        cleaned_model_results.loc[cleaned_model_results['model'] == 'linear_regression', 'rmse'].values[0]\n",
    "    ],\n",
    "    'Lasso After': [\n",
    "        cleaned_model_results.loc[cleaned_model_results['model'] == 'lasso', 'model'].values[0],\n",
    "        cleaned_model_results.loc[cleaned_model_results['model'] == 'lasso', 'best_score'].values[0],\n",
    "        cleaned_model_results.loc[cleaned_model_results['model'] == 'lasso', 'best_params'].values[0],\n",
    "        cleaned_model_results.loc[cleaned_model_results['model'] == 'lasso', 'adjusted_r2'].values[0],\n",
    "        cleaned_model_results.loc[cleaned_model_results['model'] == 'lasso', 'rmse'].values[0]\n",
    "    ],\n",
    "    'Ridge After': [\n",
    "        cleaned_model_results.loc[cleaned_model_results['model'] == 'ridge', 'model'].values[0],\n",
    "        cleaned_model_results.loc[cleaned_model_results['model'] == 'ridge', 'best_score'].values[0],\n",
    "        cleaned_model_results.loc[cleaned_model_results['model'] == 'ridge', 'best_params'].values[0],\n",
    "        cleaned_model_results.loc[cleaned_model_results['model'] == 'ridge', 'adjusted_r2'].values[0],\n",
    "         cleaned_model_results.loc[cleaned_model_results['model'] == 'ridge', 'rmse'].values[0]\n",
    "    ]\n",
    "})\n",
    "\n",
    "comparison_df"
   ]
  },
  {
   "cell_type": "code",
   "execution_count": 338,
   "id": "12791f7a-6765-40d7-a456-8e3ea4735f38",
   "metadata": {},
   "outputs": [
    {
     "data": {
      "image/png": "[encoded data removed]",
      "text/plain": [
       "<Figure size 640x480 with 1 Axes>"
      ]
     },
     "metadata": {},
     "output_type": "display_data"
    }
   ],
   "source": [
    "# Fit the model after removing influential points\n",
    "model_after = sm.OLS(y_clean, x_clean_with_const).fit()\n",
    "y_predict_after = model_after.predict(x_clean_with_const)\n",
    "residuals_after = y_clean - y_predict_after\n",
    "\n",
    "# Residuals vs Fitted Values After\n",
    "plt.subplot(1, 2, 2)\n",
    "plt.scatter(y_predict_after, residuals_after, alpha=0.5)\n",
    "plt.axhline(y=0, color='r', linestyle='--')\n",
    "plt.xlabel('Fitted Values')\n",
    "plt.ylabel('Residuals')\n",
    "plt.title('Residuals vs Fitted Values (After)')\n",
    "\n",
    "plt.tight_layout()\n",
    "plt.show()"
   ]
  },
  {
   "cell_type": "code",
   "execution_count": 342,
   "id": "23b99ba7-6543-4781-acd0-16383c0dd416",
   "metadata": {},
   "outputs": [
    {
     "data": {
      "image/png": "[encoded data removed]",
      "text/plain": [
       "<Figure size 640x480 with 1 Axes>"
      ]
     },
     "metadata": {},
     "output_type": "display_data"
    }
   ],
   "source": [
    "## Residuals Histogram \n",
    "plt.subplot(1,2,2)\n",
    "sns.histplot(residuals_after , kde = True )\n",
    "plt.xlabel('Residuals')\n",
    "plt.title('Histogram of Residuals')\n",
    "\n",
    "plt.tight_layout()\n",
    "plt.show()"
   ]
  },
  {
   "cell_type": "markdown",
   "id": "0f4ffb72-c1df-4330-b018-25712e918e6b",
   "metadata": {},
   "source": [
    "### Autocorrelation"
   ]
  },
  {
   "cell_type": "markdown",
   "id": "87a2b653-a836-413a-88b9-bd3f26d2ee52",
   "metadata": {},
   "source": [
    "#### Durbin-Watson Statistic : Measures autocorrelation in the residuals . Values close to 2 suggeset no autocorrelation "
   ]
  },
  {
   "cell_type": "code",
   "execution_count": 343,
   "id": "a324ba35-35d1-4c3a-8ac6-1e251bd22f30",
   "metadata": {},
   "outputs": [
    {
     "name": "stdout",
     "output_type": "stream",
     "text": [
      "Durbin-watson Statistic: 2.03\n"
     ]
    }
   ],
   "source": [
    "dw_stat = durbin_watson(residuals_after)\n",
    "print(f'Durbin-watson Statistic: {dw_stat:.2f}')"
   ]
  },
  {
   "cell_type": "markdown",
   "id": "f5aae494-7215-43d5-ac17-78379eab8a19",
   "metadata": {},
   "source": [
    "### Breusch Pagan Test for Homoscedasticity "
   ]
  },
  {
   "cell_type": "code",
   "execution_count": 345,
   "id": "a6a42fbe-e3be-423f-a857-f70b75c407e7",
   "metadata": {},
   "outputs": [
    {
     "name": "stdout",
     "output_type": "stream",
     "text": [
      "Breusch-Pagan test results:\n",
      "             Test Statistic         Value\n",
      "0  Lagrange Multiplier Stat  3.506129e+02\n",
      "1                   p-value  6.047439e-06\n",
      "2                   f-value  1.873357e+00\n",
      "3                 f p-value  8.675930e-11\n"
     ]
    }
   ],
   "source": [
    "# Fit the model to get residuals\n",
    "import statsmodels.api as sm\n",
    "x_train_after , x_test_after , y_train_after , y_test_after = train_test_split( x_clean_with_const , y_clean , test_size = 0.2 , random_state = 10)\n",
    "model = sm.OLS(y_test_after, x_test_after).fit()\n",
    "bp_test = het_breuschpagan(model.resid, model.model.exog)\n",
    "bp_test_labels = ['Lagrange Multiplier Stat', 'p-value', 'f-value', 'f p-value']\n",
    "print('Breusch-Pagan test results:')\n",
    "print(pd.DataFrame(lzip(bp_test_labels, bp_test), columns=['Test Statistic', 'Value']))"
   ]
  },
  {
   "cell_type": "markdown",
   "id": "a52888ca-f931-4b98-a671-ef9ce55d8a66",
   "metadata": {},
   "source": [
    "### Normality of Residuals "
   ]
  },
  {
   "cell_type": "code",
   "execution_count": 348,
   "id": "f0fe3409-118d-4f5d-83e0-368cf4949b34",
   "metadata": {},
   "outputs": [
    {
     "data": {
      "image/png": "[encoded data removed]",
      "text/plain": [
       "<Figure size 600x600 with 1 Axes>"
      ]
     },
     "metadata": {},
     "output_type": "display_data"
    }
   ],
   "source": [
    "## Q-Q Plot \n",
    "plt.figure(figsize = (6,6))\n",
    "stats.probplot(residuals_after, dist=\"norm\" , plot = plt)\n",
    "plt.title('Q-Q Plot of Residuals')\n",
    "plt.show()"
   ]
  },
  {
   "cell_type": "markdown",
   "id": "796a5b2b-1795-451a-85f7-695d74fc7ed9",
   "metadata": {},
   "source": [
    "### Shapiro-Wilk Test : Tests if Residuals are normally distributed . A high P-value indicates Normality "
   ]
  },
  {
   "cell_type": "code",
   "execution_count": 349,
   "id": "a2b302aa-c5e3-4467-841f-34f4c840da81",
   "metadata": {},
   "outputs": [
    {
     "name": "stdout",
     "output_type": "stream",
     "text": [
      "Shapiro-Wilk test: Statistic=0.862 , p-value=0.000\n"
     ]
    },
    {
     "name": "stderr",
     "output_type": "stream",
     "text": [
      "C:\\Users\\smoni\\anaconda3\\Lib\\site-packages\\scipy\\stats\\_axis_nan_policy.py:531: UserWarning: scipy.stats.shapiro: For N > 5000, computed p-value may not be accurate. Current N is 6700.\n",
      "  res = hypotest_fun_out(*samples, **kwds)\n"
     ]
    }
   ],
   "source": [
    "shapiro_test = stats.shapiro(residuals_after)\n",
    "print(f'Shapiro-Wilk test: Statistic={shapiro_test.statistic:.3f} , p-value={shapiro_test.pvalue:.3f}')"
   ]
  },
  {
   "cell_type": "markdown",
   "id": "537b5c34-e603-4103-9b63-84a376c1524d",
   "metadata": {},
   "source": [
    "### Kolmogorov-Smirnov Test for Normality"
   ]
  },
  {
   "cell_type": "code",
   "execution_count": 350,
   "id": "07bb90c5-4717-49aa-a203-f360e5d1bc72",
   "metadata": {},
   "outputs": [
    {
     "name": "stdout",
     "output_type": "stream",
     "text": [
      "Kolmogorov-Smirnov test: Statistics=0.109 , p_value = 0.000\n"
     ]
    }
   ],
   "source": [
    " ks_test = stats.kstest(residuals_after , 'norm' , args = (residuals_after.mean() , residuals_after.std()))\n",
    "print(f'Kolmogorov-Smirnov test: Statistics={ks_test.statistic:.3f} , p_value = {ks_test.pvalue:.3f}')"
   ]
  },
  {
   "cell_type": "markdown",
   "id": "1171fc72-22ac-4ede-854f-4e8aac122459",
   "metadata": {},
   "source": [
    "#### Sequence of EDA, Outlier Handling, Feature Engineering, and Feature Selection The typical sequence in a data science project is as follows:\n",
    "\n",
    "#### Exploratory Data Analysis (EDA) EDA is the initial step to understand the data. It involves:\n",
    "\n",
    "##### Understanding the data: Data types (numerical, categorical) Dimensions (rows, columns) Basic statistics (mean, median, mode, standard deviation) Handling missing values: Identifying missing values Imputation or removal based on analysis Identifying outliers: Using box plots, scatter plots, or statistical methods Understanding the nature of outliers (error, valid data point) Exploring relationships: Correlation analysis Visualization techniques (histograms, scatter plots, pair plots) Discovering patterns and trends: Identifying potential features Understanding target variable distribution 2. Outlier Handling (Optional) Based on the findings from EDA, decide whether to handle outliers. This step is optional and depends on the nature of the data and the problem.\n",
    "\n",
    "##### If outliers are due to errors: Correct or remove them If outliers are valid data points: Consider their impact on the model Potentially transform or cap them 3. Feature Engineering Create new features or transform existing ones to improve model performance.\n",
    "\n",
    "##### Feature creation: Combining existing features Deriving new features from domain knowledge Feature transformation: Scaling (normalization, standardization) Handling categorical features (encoding) Feature binning Handling skewness 4. Feature Selection Identify the most relevant features for the model.\n",
    "\n",
    "##### Filter methods: Correlation analysis Chi-square test Wrapper methods: Recursive Feature Elimination (RFE) Embedded methods: Regularization techniques (Lasso, Ridge) Note: These steps are not strictly sequential. You might iterate between EDA, outlier handling, and feature engineering as you gain deeper insights into the data. Feature selection is often done after creating a baseline model to evaluate feature importance.\n",
    "\n",
    "#### Additional Considerations:\n",
    "\n",
    "##### Data cleaning: This step can be performed before or during EDA to handle inconsistencies, duplicates, and other data quality issues. Domain knowledge: Incorporate domain expertise to guide feature engineering and selection. Model evaluation: Continuously evaluate the impact of your feature engineering and selection decisions on model performance. By following these steps and iteratively refining your approach, you can effectively extract valuable insights from your data and build robust models."
   ]
  },
  {
   "cell_type": "code",
   "execution_count": null,
   "id": "e27208cd-7436-4223-a19c-45f94055d94b",
   "metadata": {},
   "outputs": [],
   "source": []
  }
 ],
 "metadata": {
  "kernelspec": {
   "display_name": "Python [conda env:base] *",
   "language": "python",
   "name": "conda-base-py"
  },
  "language_info": {
   "codemirror_mode": {
    "name": "ipython",
    "version": 3
   },
   "file_extension": ".py",
   "mimetype": "text/x-python",
   "name": "python",
   "nbconvert_exporter": "python",
   "pygments_lexer": "ipython3",
   "version": "3.12.7"
  }
 },
 "nbformat": 4,
 "nbformat_minor": 5
}
